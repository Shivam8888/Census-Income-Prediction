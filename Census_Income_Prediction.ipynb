{
  "nbformat": 4,
  "nbformat_minor": 0,
  "metadata": {
    "colab": {
      "provenance": [],
      "collapsed_sections": []
    },
    "kernelspec": {
      "name": "python3",
      "display_name": "Python 3"
    },
    "language_info": {
      "name": "python"
    }
  },
  "cells": [
    {
      "cell_type": "code",
      "execution_count": 163,
      "metadata": {
        "id": "fn-LjsOYHijH"
      },
      "outputs": [],
      "source": [
        "#importing the libraries\n",
        "import numpy as np \n",
        "import pandas as pd\n",
        "import matplotlib.pyplot as plt\n",
        "import seaborn as sns\n",
        "import xgboost as xgb\n",
        "from sklearn.linear_model import LogisticRegression\n",
        "from sklearn.model_selection import train_test_split, cross_val_score, RandomizedSearchCV\n",
        "from sklearn.metrics import accuracy_score, confusion_matrix, classification_report, roc_auc_score, roc_curve\n",
        "from sklearn.naive_bayes import GaussianNB\n",
        "from sklearn.tree import DecisionTreeClassifier\n",
        "from sklearn.ensemble import RandomForestClassifier\n",
        "from sklearn.neighbors import KNeighborsClassifier\n",
        "from sklearn.preprocessing import LabelEncoder\n",
        "from sklearn.decomposition import PCA\n",
        "from sklearn.feature_selection import SelectKBest, chi2\n",
        "from imblearn.over_sampling import RandomOverSampler\n",
        "import warnings\n",
        "warnings.simplefilter('ignore')\n"
      ]
    },
    {
      "cell_type": "code",
      "source": [
        "#Reading the first five rows\n",
        "df=pd.read_csv(\"/content/drive/MyDrive/adult.data\", names=['age', 'workclass', 'fnlwgt', 'education', 'education_num', \n",
        "                                      'marital_status', 'occupation', 'relationship', 'race', 'sex', \n",
        "                                      'capital_gain', 'capital_loss', 'hours_per_week', 'native_country', 'income'])\n",
        "df.head()"
      ],
      "metadata": {
        "colab": {
          "base_uri": "https://localhost:8080/",
          "height": 357
        },
        "id": "qxPxfL4NIATv",
        "outputId": "cbac83a3-6f3d-47c4-c5e6-b567a32a695a"
      },
      "execution_count": 70,
      "outputs": [
        {
          "output_type": "execute_result",
          "data": {
            "text/plain": [
              "   age          workclass  fnlwgt   education  education_num  \\\n",
              "0   39          State-gov   77516   Bachelors             13   \n",
              "1   50   Self-emp-not-inc   83311   Bachelors             13   \n",
              "2   38            Private  215646     HS-grad              9   \n",
              "3   53            Private  234721        11th              7   \n",
              "4   28            Private  338409   Bachelors             13   \n",
              "\n",
              "        marital_status          occupation    relationship    race      sex  \\\n",
              "0        Never-married        Adm-clerical   Not-in-family   White     Male   \n",
              "1   Married-civ-spouse     Exec-managerial         Husband   White     Male   \n",
              "2             Divorced   Handlers-cleaners   Not-in-family   White     Male   \n",
              "3   Married-civ-spouse   Handlers-cleaners         Husband   Black     Male   \n",
              "4   Married-civ-spouse      Prof-specialty            Wife   Black   Female   \n",
              "\n",
              "   capital_gain  capital_loss  hours_per_week  native_country  income  \n",
              "0          2174             0              40   United-States   <=50K  \n",
              "1             0             0              13   United-States   <=50K  \n",
              "2             0             0              40   United-States   <=50K  \n",
              "3             0             0              40   United-States   <=50K  \n",
              "4             0             0              40            Cuba   <=50K  "
            ],
            "text/html": [
              "\n",
              "  <div id=\"df-38846be5-16fc-47ae-9431-b730b6638844\">\n",
              "    <div class=\"colab-df-container\">\n",
              "      <div>\n",
              "<style scoped>\n",
              "    .dataframe tbody tr th:only-of-type {\n",
              "        vertical-align: middle;\n",
              "    }\n",
              "\n",
              "    .dataframe tbody tr th {\n",
              "        vertical-align: top;\n",
              "    }\n",
              "\n",
              "    .dataframe thead th {\n",
              "        text-align: right;\n",
              "    }\n",
              "</style>\n",
              "<table border=\"1\" class=\"dataframe\">\n",
              "  <thead>\n",
              "    <tr style=\"text-align: right;\">\n",
              "      <th></th>\n",
              "      <th>age</th>\n",
              "      <th>workclass</th>\n",
              "      <th>fnlwgt</th>\n",
              "      <th>education</th>\n",
              "      <th>education_num</th>\n",
              "      <th>marital_status</th>\n",
              "      <th>occupation</th>\n",
              "      <th>relationship</th>\n",
              "      <th>race</th>\n",
              "      <th>sex</th>\n",
              "      <th>capital_gain</th>\n",
              "      <th>capital_loss</th>\n",
              "      <th>hours_per_week</th>\n",
              "      <th>native_country</th>\n",
              "      <th>income</th>\n",
              "    </tr>\n",
              "  </thead>\n",
              "  <tbody>\n",
              "    <tr>\n",
              "      <th>0</th>\n",
              "      <td>39</td>\n",
              "      <td>State-gov</td>\n",
              "      <td>77516</td>\n",
              "      <td>Bachelors</td>\n",
              "      <td>13</td>\n",
              "      <td>Never-married</td>\n",
              "      <td>Adm-clerical</td>\n",
              "      <td>Not-in-family</td>\n",
              "      <td>White</td>\n",
              "      <td>Male</td>\n",
              "      <td>2174</td>\n",
              "      <td>0</td>\n",
              "      <td>40</td>\n",
              "      <td>United-States</td>\n",
              "      <td>&lt;=50K</td>\n",
              "    </tr>\n",
              "    <tr>\n",
              "      <th>1</th>\n",
              "      <td>50</td>\n",
              "      <td>Self-emp-not-inc</td>\n",
              "      <td>83311</td>\n",
              "      <td>Bachelors</td>\n",
              "      <td>13</td>\n",
              "      <td>Married-civ-spouse</td>\n",
              "      <td>Exec-managerial</td>\n",
              "      <td>Husband</td>\n",
              "      <td>White</td>\n",
              "      <td>Male</td>\n",
              "      <td>0</td>\n",
              "      <td>0</td>\n",
              "      <td>13</td>\n",
              "      <td>United-States</td>\n",
              "      <td>&lt;=50K</td>\n",
              "    </tr>\n",
              "    <tr>\n",
              "      <th>2</th>\n",
              "      <td>38</td>\n",
              "      <td>Private</td>\n",
              "      <td>215646</td>\n",
              "      <td>HS-grad</td>\n",
              "      <td>9</td>\n",
              "      <td>Divorced</td>\n",
              "      <td>Handlers-cleaners</td>\n",
              "      <td>Not-in-family</td>\n",
              "      <td>White</td>\n",
              "      <td>Male</td>\n",
              "      <td>0</td>\n",
              "      <td>0</td>\n",
              "      <td>40</td>\n",
              "      <td>United-States</td>\n",
              "      <td>&lt;=50K</td>\n",
              "    </tr>\n",
              "    <tr>\n",
              "      <th>3</th>\n",
              "      <td>53</td>\n",
              "      <td>Private</td>\n",
              "      <td>234721</td>\n",
              "      <td>11th</td>\n",
              "      <td>7</td>\n",
              "      <td>Married-civ-spouse</td>\n",
              "      <td>Handlers-cleaners</td>\n",
              "      <td>Husband</td>\n",
              "      <td>Black</td>\n",
              "      <td>Male</td>\n",
              "      <td>0</td>\n",
              "      <td>0</td>\n",
              "      <td>40</td>\n",
              "      <td>United-States</td>\n",
              "      <td>&lt;=50K</td>\n",
              "    </tr>\n",
              "    <tr>\n",
              "      <th>4</th>\n",
              "      <td>28</td>\n",
              "      <td>Private</td>\n",
              "      <td>338409</td>\n",
              "      <td>Bachelors</td>\n",
              "      <td>13</td>\n",
              "      <td>Married-civ-spouse</td>\n",
              "      <td>Prof-specialty</td>\n",
              "      <td>Wife</td>\n",
              "      <td>Black</td>\n",
              "      <td>Female</td>\n",
              "      <td>0</td>\n",
              "      <td>0</td>\n",
              "      <td>40</td>\n",
              "      <td>Cuba</td>\n",
              "      <td>&lt;=50K</td>\n",
              "    </tr>\n",
              "  </tbody>\n",
              "</table>\n",
              "</div>\n",
              "      <button class=\"colab-df-convert\" onclick=\"convertToInteractive('df-38846be5-16fc-47ae-9431-b730b6638844')\"\n",
              "              title=\"Convert this dataframe to an interactive table.\"\n",
              "              style=\"display:none;\">\n",
              "        \n",
              "  <svg xmlns=\"http://www.w3.org/2000/svg\" height=\"24px\"viewBox=\"0 0 24 24\"\n",
              "       width=\"24px\">\n",
              "    <path d=\"M0 0h24v24H0V0z\" fill=\"none\"/>\n",
              "    <path d=\"M18.56 5.44l.94 2.06.94-2.06 2.06-.94-2.06-.94-.94-2.06-.94 2.06-2.06.94zm-11 1L8.5 8.5l.94-2.06 2.06-.94-2.06-.94L8.5 2.5l-.94 2.06-2.06.94zm10 10l.94 2.06.94-2.06 2.06-.94-2.06-.94-.94-2.06-.94 2.06-2.06.94z\"/><path d=\"M17.41 7.96l-1.37-1.37c-.4-.4-.92-.59-1.43-.59-.52 0-1.04.2-1.43.59L10.3 9.45l-7.72 7.72c-.78.78-.78 2.05 0 2.83L4 21.41c.39.39.9.59 1.41.59.51 0 1.02-.2 1.41-.59l7.78-7.78 2.81-2.81c.8-.78.8-2.07 0-2.86zM5.41 20L4 18.59l7.72-7.72 1.47 1.35L5.41 20z\"/>\n",
              "  </svg>\n",
              "      </button>\n",
              "      \n",
              "  <style>\n",
              "    .colab-df-container {\n",
              "      display:flex;\n",
              "      flex-wrap:wrap;\n",
              "      gap: 12px;\n",
              "    }\n",
              "\n",
              "    .colab-df-convert {\n",
              "      background-color: #E8F0FE;\n",
              "      border: none;\n",
              "      border-radius: 50%;\n",
              "      cursor: pointer;\n",
              "      display: none;\n",
              "      fill: #1967D2;\n",
              "      height: 32px;\n",
              "      padding: 0 0 0 0;\n",
              "      width: 32px;\n",
              "    }\n",
              "\n",
              "    .colab-df-convert:hover {\n",
              "      background-color: #E2EBFA;\n",
              "      box-shadow: 0px 1px 2px rgba(60, 64, 67, 0.3), 0px 1px 3px 1px rgba(60, 64, 67, 0.15);\n",
              "      fill: #174EA6;\n",
              "    }\n",
              "\n",
              "    [theme=dark] .colab-df-convert {\n",
              "      background-color: #3B4455;\n",
              "      fill: #D2E3FC;\n",
              "    }\n",
              "\n",
              "    [theme=dark] .colab-df-convert:hover {\n",
              "      background-color: #434B5C;\n",
              "      box-shadow: 0px 1px 3px 1px rgba(0, 0, 0, 0.15);\n",
              "      filter: drop-shadow(0px 1px 2px rgba(0, 0, 0, 0.3));\n",
              "      fill: #FFFFFF;\n",
              "    }\n",
              "  </style>\n",
              "\n",
              "      <script>\n",
              "        const buttonEl =\n",
              "          document.querySelector('#df-38846be5-16fc-47ae-9431-b730b6638844 button.colab-df-convert');\n",
              "        buttonEl.style.display =\n",
              "          google.colab.kernel.accessAllowed ? 'block' : 'none';\n",
              "\n",
              "        async function convertToInteractive(key) {\n",
              "          const element = document.querySelector('#df-38846be5-16fc-47ae-9431-b730b6638844');\n",
              "          const dataTable =\n",
              "            await google.colab.kernel.invokeFunction('convertToInteractive',\n",
              "                                                     [key], {});\n",
              "          if (!dataTable) return;\n",
              "\n",
              "          const docLinkHtml = 'Like what you see? Visit the ' +\n",
              "            '<a target=\"_blank\" href=https://colab.research.google.com/notebooks/data_table.ipynb>data table notebook</a>'\n",
              "            + ' to learn more about interactive tables.';\n",
              "          element.innerHTML = '';\n",
              "          dataTable['output_type'] = 'display_data';\n",
              "          await google.colab.output.renderOutput(dataTable, element);\n",
              "          const docLink = document.createElement('div');\n",
              "          docLink.innerHTML = docLinkHtml;\n",
              "          element.appendChild(docLink);\n",
              "        }\n",
              "      </script>\n",
              "    </div>\n",
              "  </div>\n",
              "  "
            ]
          },
          "metadata": {},
          "execution_count": 70
        }
      ]
    },
    {
      "cell_type": "code",
      "source": [
        "#To know more about data set\n",
        "df.info()"
      ],
      "metadata": {
        "colab": {
          "base_uri": "https://localhost:8080/"
        },
        "id": "9jz2DOWFIEfO",
        "outputId": "61adbe7b-db70-4906-a790-f2947c8aba58"
      },
      "execution_count": 71,
      "outputs": [
        {
          "output_type": "stream",
          "name": "stdout",
          "text": [
            "<class 'pandas.core.frame.DataFrame'>\n",
            "RangeIndex: 32561 entries, 0 to 32560\n",
            "Data columns (total 15 columns):\n",
            " #   Column          Non-Null Count  Dtype \n",
            "---  ------          --------------  ----- \n",
            " 0   age             32561 non-null  int64 \n",
            " 1   workclass       32561 non-null  object\n",
            " 2   fnlwgt          32561 non-null  int64 \n",
            " 3   education       32561 non-null  object\n",
            " 4   education_num   32561 non-null  int64 \n",
            " 5   marital_status  32561 non-null  object\n",
            " 6   occupation      32561 non-null  object\n",
            " 7   relationship    32561 non-null  object\n",
            " 8   race            32561 non-null  object\n",
            " 9   sex             32561 non-null  object\n",
            " 10  capital_gain    32561 non-null  int64 \n",
            " 11  capital_loss    32561 non-null  int64 \n",
            " 12  hours_per_week  32561 non-null  int64 \n",
            " 13  native_country  32561 non-null  object\n",
            " 14  income          32561 non-null  object\n",
            "dtypes: int64(6), object(9)\n",
            "memory usage: 3.7+ MB\n"
          ]
        }
      ]
    },
    {
      "cell_type": "code",
      "source": [
        "#To know some statistical measurements\n",
        "df.describe()"
      ],
      "metadata": {
        "colab": {
          "base_uri": "https://localhost:8080/",
          "height": 300
        },
        "id": "GeD7Qu3uTRpS",
        "outputId": "ba3a0d9d-6040-471c-ea95-e2877ecb106a"
      },
      "execution_count": 72,
      "outputs": [
        {
          "output_type": "execute_result",
          "data": {
            "text/plain": [
              "                age        fnlwgt  education_num  capital_gain  capital_loss  \\\n",
              "count  32561.000000  3.256100e+04   32561.000000  32561.000000  32561.000000   \n",
              "mean      38.581647  1.897784e+05      10.080679   1077.648844     87.303830   \n",
              "std       13.640433  1.055500e+05       2.572720   7385.292085    402.960219   \n",
              "min       17.000000  1.228500e+04       1.000000      0.000000      0.000000   \n",
              "25%       28.000000  1.178270e+05       9.000000      0.000000      0.000000   \n",
              "50%       37.000000  1.783560e+05      10.000000      0.000000      0.000000   \n",
              "75%       48.000000  2.370510e+05      12.000000      0.000000      0.000000   \n",
              "max       90.000000  1.484705e+06      16.000000  99999.000000   4356.000000   \n",
              "\n",
              "       hours_per_week  \n",
              "count    32561.000000  \n",
              "mean        40.437456  \n",
              "std         12.347429  \n",
              "min          1.000000  \n",
              "25%         40.000000  \n",
              "50%         40.000000  \n",
              "75%         45.000000  \n",
              "max         99.000000  "
            ],
            "text/html": [
              "\n",
              "  <div id=\"df-182a8988-e9c3-4e3e-aa41-b4e9498fc4cd\">\n",
              "    <div class=\"colab-df-container\">\n",
              "      <div>\n",
              "<style scoped>\n",
              "    .dataframe tbody tr th:only-of-type {\n",
              "        vertical-align: middle;\n",
              "    }\n",
              "\n",
              "    .dataframe tbody tr th {\n",
              "        vertical-align: top;\n",
              "    }\n",
              "\n",
              "    .dataframe thead th {\n",
              "        text-align: right;\n",
              "    }\n",
              "</style>\n",
              "<table border=\"1\" class=\"dataframe\">\n",
              "  <thead>\n",
              "    <tr style=\"text-align: right;\">\n",
              "      <th></th>\n",
              "      <th>age</th>\n",
              "      <th>fnlwgt</th>\n",
              "      <th>education_num</th>\n",
              "      <th>capital_gain</th>\n",
              "      <th>capital_loss</th>\n",
              "      <th>hours_per_week</th>\n",
              "    </tr>\n",
              "  </thead>\n",
              "  <tbody>\n",
              "    <tr>\n",
              "      <th>count</th>\n",
              "      <td>32561.000000</td>\n",
              "      <td>3.256100e+04</td>\n",
              "      <td>32561.000000</td>\n",
              "      <td>32561.000000</td>\n",
              "      <td>32561.000000</td>\n",
              "      <td>32561.000000</td>\n",
              "    </tr>\n",
              "    <tr>\n",
              "      <th>mean</th>\n",
              "      <td>38.581647</td>\n",
              "      <td>1.897784e+05</td>\n",
              "      <td>10.080679</td>\n",
              "      <td>1077.648844</td>\n",
              "      <td>87.303830</td>\n",
              "      <td>40.437456</td>\n",
              "    </tr>\n",
              "    <tr>\n",
              "      <th>std</th>\n",
              "      <td>13.640433</td>\n",
              "      <td>1.055500e+05</td>\n",
              "      <td>2.572720</td>\n",
              "      <td>7385.292085</td>\n",
              "      <td>402.960219</td>\n",
              "      <td>12.347429</td>\n",
              "    </tr>\n",
              "    <tr>\n",
              "      <th>min</th>\n",
              "      <td>17.000000</td>\n",
              "      <td>1.228500e+04</td>\n",
              "      <td>1.000000</td>\n",
              "      <td>0.000000</td>\n",
              "      <td>0.000000</td>\n",
              "      <td>1.000000</td>\n",
              "    </tr>\n",
              "    <tr>\n",
              "      <th>25%</th>\n",
              "      <td>28.000000</td>\n",
              "      <td>1.178270e+05</td>\n",
              "      <td>9.000000</td>\n",
              "      <td>0.000000</td>\n",
              "      <td>0.000000</td>\n",
              "      <td>40.000000</td>\n",
              "    </tr>\n",
              "    <tr>\n",
              "      <th>50%</th>\n",
              "      <td>37.000000</td>\n",
              "      <td>1.783560e+05</td>\n",
              "      <td>10.000000</td>\n",
              "      <td>0.000000</td>\n",
              "      <td>0.000000</td>\n",
              "      <td>40.000000</td>\n",
              "    </tr>\n",
              "    <tr>\n",
              "      <th>75%</th>\n",
              "      <td>48.000000</td>\n",
              "      <td>2.370510e+05</td>\n",
              "      <td>12.000000</td>\n",
              "      <td>0.000000</td>\n",
              "      <td>0.000000</td>\n",
              "      <td>45.000000</td>\n",
              "    </tr>\n",
              "    <tr>\n",
              "      <th>max</th>\n",
              "      <td>90.000000</td>\n",
              "      <td>1.484705e+06</td>\n",
              "      <td>16.000000</td>\n",
              "      <td>99999.000000</td>\n",
              "      <td>4356.000000</td>\n",
              "      <td>99.000000</td>\n",
              "    </tr>\n",
              "  </tbody>\n",
              "</table>\n",
              "</div>\n",
              "      <button class=\"colab-df-convert\" onclick=\"convertToInteractive('df-182a8988-e9c3-4e3e-aa41-b4e9498fc4cd')\"\n",
              "              title=\"Convert this dataframe to an interactive table.\"\n",
              "              style=\"display:none;\">\n",
              "        \n",
              "  <svg xmlns=\"http://www.w3.org/2000/svg\" height=\"24px\"viewBox=\"0 0 24 24\"\n",
              "       width=\"24px\">\n",
              "    <path d=\"M0 0h24v24H0V0z\" fill=\"none\"/>\n",
              "    <path d=\"M18.56 5.44l.94 2.06.94-2.06 2.06-.94-2.06-.94-.94-2.06-.94 2.06-2.06.94zm-11 1L8.5 8.5l.94-2.06 2.06-.94-2.06-.94L8.5 2.5l-.94 2.06-2.06.94zm10 10l.94 2.06.94-2.06 2.06-.94-2.06-.94-.94-2.06-.94 2.06-2.06.94z\"/><path d=\"M17.41 7.96l-1.37-1.37c-.4-.4-.92-.59-1.43-.59-.52 0-1.04.2-1.43.59L10.3 9.45l-7.72 7.72c-.78.78-.78 2.05 0 2.83L4 21.41c.39.39.9.59 1.41.59.51 0 1.02-.2 1.41-.59l7.78-7.78 2.81-2.81c.8-.78.8-2.07 0-2.86zM5.41 20L4 18.59l7.72-7.72 1.47 1.35L5.41 20z\"/>\n",
              "  </svg>\n",
              "      </button>\n",
              "      \n",
              "  <style>\n",
              "    .colab-df-container {\n",
              "      display:flex;\n",
              "      flex-wrap:wrap;\n",
              "      gap: 12px;\n",
              "    }\n",
              "\n",
              "    .colab-df-convert {\n",
              "      background-color: #E8F0FE;\n",
              "      border: none;\n",
              "      border-radius: 50%;\n",
              "      cursor: pointer;\n",
              "      display: none;\n",
              "      fill: #1967D2;\n",
              "      height: 32px;\n",
              "      padding: 0 0 0 0;\n",
              "      width: 32px;\n",
              "    }\n",
              "\n",
              "    .colab-df-convert:hover {\n",
              "      background-color: #E2EBFA;\n",
              "      box-shadow: 0px 1px 2px rgba(60, 64, 67, 0.3), 0px 1px 3px 1px rgba(60, 64, 67, 0.15);\n",
              "      fill: #174EA6;\n",
              "    }\n",
              "\n",
              "    [theme=dark] .colab-df-convert {\n",
              "      background-color: #3B4455;\n",
              "      fill: #D2E3FC;\n",
              "    }\n",
              "\n",
              "    [theme=dark] .colab-df-convert:hover {\n",
              "      background-color: #434B5C;\n",
              "      box-shadow: 0px 1px 3px 1px rgba(0, 0, 0, 0.15);\n",
              "      filter: drop-shadow(0px 1px 2px rgba(0, 0, 0, 0.3));\n",
              "      fill: #FFFFFF;\n",
              "    }\n",
              "  </style>\n",
              "\n",
              "      <script>\n",
              "        const buttonEl =\n",
              "          document.querySelector('#df-182a8988-e9c3-4e3e-aa41-b4e9498fc4cd button.colab-df-convert');\n",
              "        buttonEl.style.display =\n",
              "          google.colab.kernel.accessAllowed ? 'block' : 'none';\n",
              "\n",
              "        async function convertToInteractive(key) {\n",
              "          const element = document.querySelector('#df-182a8988-e9c3-4e3e-aa41-b4e9498fc4cd');\n",
              "          const dataTable =\n",
              "            await google.colab.kernel.invokeFunction('convertToInteractive',\n",
              "                                                     [key], {});\n",
              "          if (!dataTable) return;\n",
              "\n",
              "          const docLinkHtml = 'Like what you see? Visit the ' +\n",
              "            '<a target=\"_blank\" href=https://colab.research.google.com/notebooks/data_table.ipynb>data table notebook</a>'\n",
              "            + ' to learn more about interactive tables.';\n",
              "          element.innerHTML = '';\n",
              "          dataTable['output_type'] = 'display_data';\n",
              "          await google.colab.output.renderOutput(dataTable, element);\n",
              "          const docLink = document.createElement('div');\n",
              "          docLink.innerHTML = docLinkHtml;\n",
              "          element.appendChild(docLink);\n",
              "        }\n",
              "      </script>\n",
              "    </div>\n",
              "  </div>\n",
              "  "
            ]
          },
          "metadata": {},
          "execution_count": 72
        }
      ]
    },
    {
      "cell_type": "code",
      "source": [
        "# checking the no of rows and columns\n",
        "df.shape"
      ],
      "metadata": {
        "colab": {
          "base_uri": "https://localhost:8080/"
        },
        "id": "n8RV9v4H6Vmz",
        "outputId": "2a1783bf-2fca-420a-c50e-79289b6c4a30"
      },
      "execution_count": 73,
      "outputs": [
        {
          "output_type": "execute_result",
          "data": {
            "text/plain": [
              "(32561, 15)"
            ]
          },
          "metadata": {},
          "execution_count": 73
        }
      ]
    },
    {
      "cell_type": "code",
      "source": [
        "#checking the unique values for income\n",
        "df['income'].value_counts()"
      ],
      "metadata": {
        "colab": {
          "base_uri": "https://localhost:8080/"
        },
        "id": "nO9h4_ui6VlT",
        "outputId": "e3f5b6a0-8b1c-4561-de17-5d8f38ad209d"
      },
      "execution_count": 74,
      "outputs": [
        {
          "output_type": "execute_result",
          "data": {
            "text/plain": [
              " <=50K    24720\n",
              " >50K      7841\n",
              "Name: income, dtype: int64"
            ]
          },
          "metadata": {},
          "execution_count": 74
        }
      ]
    },
    {
      "cell_type": "code",
      "source": [
        "#checking the unique values for sex\n",
        "df['sex'].value_counts()"
      ],
      "metadata": {
        "colab": {
          "base_uri": "https://localhost:8080/"
        },
        "id": "dpsK_hZ5uxQr",
        "outputId": "84a9e748-bda2-4b69-e8e2-8aa2cdb58e7f"
      },
      "execution_count": 75,
      "outputs": [
        {
          "output_type": "execute_result",
          "data": {
            "text/plain": [
              " Male      21790\n",
              " Female    10771\n",
              "Name: sex, dtype: int64"
            ]
          },
          "metadata": {},
          "execution_count": 75
        }
      ]
    },
    {
      "cell_type": "code",
      "source": [
        "#Checking the null values\n",
        "df.isnull().sum()"
      ],
      "metadata": {
        "colab": {
          "base_uri": "https://localhost:8080/"
        },
        "id": "TQECLmVk_Hiq",
        "outputId": "b4865d86-c9d1-4950-a100-778a27418004"
      },
      "execution_count": 76,
      "outputs": [
        {
          "output_type": "execute_result",
          "data": {
            "text/plain": [
              "age               0\n",
              "workclass         0\n",
              "fnlwgt            0\n",
              "education         0\n",
              "education_num     0\n",
              "marital_status    0\n",
              "occupation        0\n",
              "relationship      0\n",
              "race              0\n",
              "sex               0\n",
              "capital_gain      0\n",
              "capital_loss      0\n",
              "hours_per_week    0\n",
              "native_country    0\n",
              "income            0\n",
              "dtype: int64"
            ]
          },
          "metadata": {},
          "execution_count": 76
        }
      ]
    },
    {
      "cell_type": "code",
      "source": [
        "#checking the '?' in dataset\n",
        "df.isin(['?']).sum()"
      ],
      "metadata": {
        "colab": {
          "base_uri": "https://localhost:8080/"
        },
        "id": "ollxJdcYmh1p",
        "outputId": "9bf28deb-1c1f-4ed4-ef86-cd7f1a22b451"
      },
      "execution_count": 77,
      "outputs": [
        {
          "output_type": "execute_result",
          "data": {
            "text/plain": [
              "age               0\n",
              "workclass         0\n",
              "fnlwgt            0\n",
              "education         0\n",
              "education_num     0\n",
              "marital_status    0\n",
              "occupation        0\n",
              "relationship      0\n",
              "race              0\n",
              "sex               0\n",
              "capital_gain      0\n",
              "capital_loss      0\n",
              "hours_per_week    0\n",
              "native_country    0\n",
              "income            0\n",
              "dtype: int64"
            ]
          },
          "metadata": {},
          "execution_count": 77
        }
      ]
    },
    {
      "cell_type": "code",
      "source": [
        "#To check the correlation\n",
        "df.corr()"
      ],
      "metadata": {
        "colab": {
          "base_uri": "https://localhost:8080/",
          "height": 238
        },
        "id": "qL_nBPqr5pQo",
        "outputId": "897db084-fedb-458c-f7e4-435e71151e9f"
      },
      "execution_count": 78,
      "outputs": [
        {
          "output_type": "execute_result",
          "data": {
            "text/plain": [
              "                     age    fnlwgt  education_num  capital_gain  capital_loss  \\\n",
              "age             1.000000 -0.076646       0.036527      0.077674      0.057775   \n",
              "fnlwgt         -0.076646  1.000000      -0.043195      0.000432     -0.010252   \n",
              "education_num   0.036527 -0.043195       1.000000      0.122630      0.079923   \n",
              "capital_gain    0.077674  0.000432       0.122630      1.000000     -0.031615   \n",
              "capital_loss    0.057775 -0.010252       0.079923     -0.031615      1.000000   \n",
              "hours_per_week  0.068756 -0.018768       0.148123      0.078409      0.054256   \n",
              "\n",
              "                hours_per_week  \n",
              "age                   0.068756  \n",
              "fnlwgt               -0.018768  \n",
              "education_num         0.148123  \n",
              "capital_gain          0.078409  \n",
              "capital_loss          0.054256  \n",
              "hours_per_week        1.000000  "
            ],
            "text/html": [
              "\n",
              "  <div id=\"df-eb639427-4457-4d8b-a66f-dd3b11c14f9a\">\n",
              "    <div class=\"colab-df-container\">\n",
              "      <div>\n",
              "<style scoped>\n",
              "    .dataframe tbody tr th:only-of-type {\n",
              "        vertical-align: middle;\n",
              "    }\n",
              "\n",
              "    .dataframe tbody tr th {\n",
              "        vertical-align: top;\n",
              "    }\n",
              "\n",
              "    .dataframe thead th {\n",
              "        text-align: right;\n",
              "    }\n",
              "</style>\n",
              "<table border=\"1\" class=\"dataframe\">\n",
              "  <thead>\n",
              "    <tr style=\"text-align: right;\">\n",
              "      <th></th>\n",
              "      <th>age</th>\n",
              "      <th>fnlwgt</th>\n",
              "      <th>education_num</th>\n",
              "      <th>capital_gain</th>\n",
              "      <th>capital_loss</th>\n",
              "      <th>hours_per_week</th>\n",
              "    </tr>\n",
              "  </thead>\n",
              "  <tbody>\n",
              "    <tr>\n",
              "      <th>age</th>\n",
              "      <td>1.000000</td>\n",
              "      <td>-0.076646</td>\n",
              "      <td>0.036527</td>\n",
              "      <td>0.077674</td>\n",
              "      <td>0.057775</td>\n",
              "      <td>0.068756</td>\n",
              "    </tr>\n",
              "    <tr>\n",
              "      <th>fnlwgt</th>\n",
              "      <td>-0.076646</td>\n",
              "      <td>1.000000</td>\n",
              "      <td>-0.043195</td>\n",
              "      <td>0.000432</td>\n",
              "      <td>-0.010252</td>\n",
              "      <td>-0.018768</td>\n",
              "    </tr>\n",
              "    <tr>\n",
              "      <th>education_num</th>\n",
              "      <td>0.036527</td>\n",
              "      <td>-0.043195</td>\n",
              "      <td>1.000000</td>\n",
              "      <td>0.122630</td>\n",
              "      <td>0.079923</td>\n",
              "      <td>0.148123</td>\n",
              "    </tr>\n",
              "    <tr>\n",
              "      <th>capital_gain</th>\n",
              "      <td>0.077674</td>\n",
              "      <td>0.000432</td>\n",
              "      <td>0.122630</td>\n",
              "      <td>1.000000</td>\n",
              "      <td>-0.031615</td>\n",
              "      <td>0.078409</td>\n",
              "    </tr>\n",
              "    <tr>\n",
              "      <th>capital_loss</th>\n",
              "      <td>0.057775</td>\n",
              "      <td>-0.010252</td>\n",
              "      <td>0.079923</td>\n",
              "      <td>-0.031615</td>\n",
              "      <td>1.000000</td>\n",
              "      <td>0.054256</td>\n",
              "    </tr>\n",
              "    <tr>\n",
              "      <th>hours_per_week</th>\n",
              "      <td>0.068756</td>\n",
              "      <td>-0.018768</td>\n",
              "      <td>0.148123</td>\n",
              "      <td>0.078409</td>\n",
              "      <td>0.054256</td>\n",
              "      <td>1.000000</td>\n",
              "    </tr>\n",
              "  </tbody>\n",
              "</table>\n",
              "</div>\n",
              "      <button class=\"colab-df-convert\" onclick=\"convertToInteractive('df-eb639427-4457-4d8b-a66f-dd3b11c14f9a')\"\n",
              "              title=\"Convert this dataframe to an interactive table.\"\n",
              "              style=\"display:none;\">\n",
              "        \n",
              "  <svg xmlns=\"http://www.w3.org/2000/svg\" height=\"24px\"viewBox=\"0 0 24 24\"\n",
              "       width=\"24px\">\n",
              "    <path d=\"M0 0h24v24H0V0z\" fill=\"none\"/>\n",
              "    <path d=\"M18.56 5.44l.94 2.06.94-2.06 2.06-.94-2.06-.94-.94-2.06-.94 2.06-2.06.94zm-11 1L8.5 8.5l.94-2.06 2.06-.94-2.06-.94L8.5 2.5l-.94 2.06-2.06.94zm10 10l.94 2.06.94-2.06 2.06-.94-2.06-.94-.94-2.06-.94 2.06-2.06.94z\"/><path d=\"M17.41 7.96l-1.37-1.37c-.4-.4-.92-.59-1.43-.59-.52 0-1.04.2-1.43.59L10.3 9.45l-7.72 7.72c-.78.78-.78 2.05 0 2.83L4 21.41c.39.39.9.59 1.41.59.51 0 1.02-.2 1.41-.59l7.78-7.78 2.81-2.81c.8-.78.8-2.07 0-2.86zM5.41 20L4 18.59l7.72-7.72 1.47 1.35L5.41 20z\"/>\n",
              "  </svg>\n",
              "      </button>\n",
              "      \n",
              "  <style>\n",
              "    .colab-df-container {\n",
              "      display:flex;\n",
              "      flex-wrap:wrap;\n",
              "      gap: 12px;\n",
              "    }\n",
              "\n",
              "    .colab-df-convert {\n",
              "      background-color: #E8F0FE;\n",
              "      border: none;\n",
              "      border-radius: 50%;\n",
              "      cursor: pointer;\n",
              "      display: none;\n",
              "      fill: #1967D2;\n",
              "      height: 32px;\n",
              "      padding: 0 0 0 0;\n",
              "      width: 32px;\n",
              "    }\n",
              "\n",
              "    .colab-df-convert:hover {\n",
              "      background-color: #E2EBFA;\n",
              "      box-shadow: 0px 1px 2px rgba(60, 64, 67, 0.3), 0px 1px 3px 1px rgba(60, 64, 67, 0.15);\n",
              "      fill: #174EA6;\n",
              "    }\n",
              "\n",
              "    [theme=dark] .colab-df-convert {\n",
              "      background-color: #3B4455;\n",
              "      fill: #D2E3FC;\n",
              "    }\n",
              "\n",
              "    [theme=dark] .colab-df-convert:hover {\n",
              "      background-color: #434B5C;\n",
              "      box-shadow: 0px 1px 3px 1px rgba(0, 0, 0, 0.15);\n",
              "      filter: drop-shadow(0px 1px 2px rgba(0, 0, 0, 0.3));\n",
              "      fill: #FFFFFF;\n",
              "    }\n",
              "  </style>\n",
              "\n",
              "      <script>\n",
              "        const buttonEl =\n",
              "          document.querySelector('#df-eb639427-4457-4d8b-a66f-dd3b11c14f9a button.colab-df-convert');\n",
              "        buttonEl.style.display =\n",
              "          google.colab.kernel.accessAllowed ? 'block' : 'none';\n",
              "\n",
              "        async function convertToInteractive(key) {\n",
              "          const element = document.querySelector('#df-eb639427-4457-4d8b-a66f-dd3b11c14f9a');\n",
              "          const dataTable =\n",
              "            await google.colab.kernel.invokeFunction('convertToInteractive',\n",
              "                                                     [key], {});\n",
              "          if (!dataTable) return;\n",
              "\n",
              "          const docLinkHtml = 'Like what you see? Visit the ' +\n",
              "            '<a target=\"_blank\" href=https://colab.research.google.com/notebooks/data_table.ipynb>data table notebook</a>'\n",
              "            + ' to learn more about interactive tables.';\n",
              "          element.innerHTML = '';\n",
              "          dataTable['output_type'] = 'display_data';\n",
              "          await google.colab.output.renderOutput(dataTable, element);\n",
              "          const docLink = document.createElement('div');\n",
              "          docLink.innerHTML = docLinkHtml;\n",
              "          element.appendChild(docLink);\n",
              "        }\n",
              "      </script>\n",
              "    </div>\n",
              "  </div>\n",
              "  "
            ]
          },
          "metadata": {},
          "execution_count": 78
        }
      ]
    },
    {
      "cell_type": "code",
      "source": [
        "# To plot the correlation\n",
        "sns.heatmap(df.corr(), cmap='YlGnBu', annot=True)\n",
        "plt.title(\"Correlation between the different columns\")\n",
        "plt.show()"
      ],
      "metadata": {
        "colab": {
          "base_uri": "https://localhost:8080/",
          "height": 352
        },
        "id": "wmCLxAoq6IHm",
        "outputId": "fb601cbc-c2f4-40f3-c1eb-548e99831475"
      },
      "execution_count": 79,
      "outputs": [
        {
          "output_type": "display_data",
          "data": {
            "text/plain": [
              "<Figure size 432x288 with 2 Axes>"
            ],
            "image/png": "[encoded data removed]"
          },
          "metadata": {
            "needs_background": "light"
          }
        }
      ]
    },
    {
      "cell_type": "code",
      "source": [
        "# Checking the skewness in dataset\n",
        "df.skew()"
      ],
      "metadata": {
        "colab": {
          "base_uri": "https://localhost:8080/"
        },
        "id": "v7hO9T-z_hTK",
        "outputId": "1eddedb6-13d8-4577-d200-483d95f305c4"
      },
      "execution_count": 80,
      "outputs": [
        {
          "output_type": "execute_result",
          "data": {
            "text/plain": [
              "age                0.558743\n",
              "fnlwgt             1.446980\n",
              "education_num     -0.311676\n",
              "capital_gain      11.953848\n",
              "capital_loss       4.594629\n",
              "hours_per_week     0.227643\n",
              "dtype: float64"
            ]
          },
          "metadata": {},
          "execution_count": 80
        }
      ]
    },
    {
      "cell_type": "code",
      "source": [
        "#Distribution plot for capital_gain\n",
        "sns.distplot(df['capital_gain'])\n",
        "plt.xlabel(\"Distribution plot for capital_gain\")\n",
        "plt.show()"
      ],
      "metadata": {
        "colab": {
          "base_uri": "https://localhost:8080/",
          "height": 280
        },
        "id": "mVYq7IdAAQtA",
        "outputId": "d6a7cb20-0ab8-4d95-8770-05df95528c6c"
      },
      "execution_count": 81,
      "outputs": [
        {
          "output_type": "display_data",
          "data": {
            "text/plain": [
              "<Figure size 432x288 with 1 Axes>"
            ],
            "image/png": "[encoded data removed]"
          },
          "metadata": {
            "needs_background": "light"
          }
        }
      ]
    },
    {
      "cell_type": "code",
      "source": [
        "#Distribution plot for capital_loss\n",
        "sns.distplot(df['capital_loss'])\n",
        "plt.xlabel(\"Distribution plot for capital_loss\")\n",
        "plt.show()"
      ],
      "metadata": {
        "colab": {
          "base_uri": "https://localhost:8080/",
          "height": 280
        },
        "id": "xkJ9vS95BaLv",
        "outputId": "89d0821a-0dfe-4571-8e71-f72cc81fa7e6"
      },
      "execution_count": 82,
      "outputs": [
        {
          "output_type": "display_data",
          "data": {
            "text/plain": [
              "<Figure size 432x288 with 1 Axes>"
            ],
            "image/png": "[encoded data removed]"
          },
          "metadata": {
            "needs_background": "light"
          }
        }
      ]
    },
    {
      "cell_type": "code",
      "source": [
        "# Performing log transformation on 'capital_loss_log' and 'age_log'\n",
        "capital_loss_log = np.log(df['capital_loss'])\n",
        "capital_gain_log = np.log(df['capital_gain'])\n"
      ],
      "metadata": {
        "id": "W8LEIvu4BDYK"
      },
      "execution_count": 83,
      "outputs": []
    },
    {
      "cell_type": "code",
      "source": [
        "#Distribution plot for age\n",
        "sns.distplot(df['age'])\n",
        "plt.title(\"Distribution plot for age\")\n",
        "plt.show()"
      ],
      "metadata": {
        "colab": {
          "base_uri": "https://localhost:8080/",
          "height": 295
        },
        "id": "5mKRippFmLv-",
        "outputId": "d7c99981-87bd-4a1b-ff48-f96ee83168d6"
      },
      "execution_count": 84,
      "outputs": [
        {
          "output_type": "display_data",
          "data": {
            "text/plain": [
              "<Figure size 432x288 with 1 Axes>"
            ],
            "image/png": "[encoded data removed]"
          },
          "metadata": {
            "needs_background": "light"
          }
        }
      ]
    },
    {
      "cell_type": "code",
      "source": [
        "#Countplot for workclass\n",
        "plt.figure(figsize = (15,8))\n",
        "sns.countplot(df['workclass'])\n",
        "plt.title(\"Countplot for workclass\")\n",
        "plt.show()\n",
        "\n"
      ],
      "metadata": {
        "colab": {
          "base_uri": "https://localhost:8080/",
          "height": 513
        },
        "id": "nV1uetL5rFi9",
        "outputId": "19dd462a-50f1-4aea-e7ad-c71459d47062"
      },
      "execution_count": 85,
      "outputs": [
        {
          "output_type": "display_data",
          "data": {
            "text/plain": [
              "<Figure size 1080x576 with 1 Axes>"
            ],
            "image/png": "[encoded data removed]"
          },
          "metadata": {
            "needs_background": "light"
          }
        }
      ]
    },
    {
      "cell_type": "code",
      "source": [
        "#Countplot for Education\n",
        "plt.figure(figsize = (20,8))\n",
        "sns.countplot(x= 'education', hue = 'income', data=df)\n",
        "plt.title(\"Countplot for Education\")\n",
        "plt.show()"
      ],
      "metadata": {
        "colab": {
          "base_uri": "https://localhost:8080/",
          "height": 513
        },
        "id": "Zsjvjq4SmLog",
        "outputId": "500f06e3-b0f0-411e-e060-cd016d62f78d"
      },
      "execution_count": 86,
      "outputs": [
        {
          "output_type": "display_data",
          "data": {
            "text/plain": [
              "<Figure size 1440x576 with 1 Axes>"
            ],
            "image/png": "[encoded data removed]"
          },
          "metadata": {
            "needs_background": "light"
          }
        }
      ]
    },
    {
      "cell_type": "code",
      "source": [
        "#Countplot for gender per class\n",
        "sns.countplot(x='sex', hue='income', data=df)\n",
        "plt.title(\"Countplot for gender per class\")\n",
        "plt.show()"
      ],
      "metadata": {
        "colab": {
          "base_uri": "https://localhost:8080/",
          "height": 295
        },
        "id": "N4xgi1_KmLmy",
        "outputId": "24d779c3-2de6-43ec-ac99-cb2cc8ff2fe5"
      },
      "execution_count": 87,
      "outputs": [
        {
          "output_type": "display_data",
          "data": {
            "text/plain": [
              "<Figure size 432x288 with 1 Axes>"
            ],
            "image/png": "[encoded data removed]"
          },
          "metadata": {
            "needs_background": "light"
          }
        }
      ]
    },
    {
      "cell_type": "code",
      "source": [
        "plt.figure(figsize = (15,8))\n",
        "sns.countplot(df['marital_status'])\n",
        "plt.title(\"Countplot for marital_status\")\n",
        "plt.show()\n",
        "\n",
        "\n",
        "plt.figure(figsize = (15,8))\n",
        "sns.countplot(x = 'marital_status', hue = 'income', data=df)\n",
        "plt.title(\"Countplot for marital_status per class\")\n",
        "plt.show()\n"
      ],
      "metadata": {
        "colab": {
          "base_uri": "https://localhost:8080/",
          "height": 1000
        },
        "id": "TPsDFf7ymLhI",
        "outputId": "2d94c247-c9da-44ff-a203-7d7521eebe9d"
      },
      "execution_count": 88,
      "outputs": [
        {
          "output_type": "display_data",
          "data": {
            "text/plain": [
              "<Figure size 1080x576 with 1 Axes>"
            ],
            "image/png": "[encoded data removed]"
          },
          "metadata": {
            "needs_background": "light"
          }
        },
        {
          "output_type": "display_data",
          "data": {
            "text/plain": [
              "<Figure size 1080x576 with 1 Axes>"
            ],
            "image/png": "[encoded data removed]"
          },
          "metadata": {
            "needs_background": "light"
          }
        }
      ]
    },
    {
      "cell_type": "code",
      "source": [
        "plt.figure(figsize = (15,8))\n",
        "sns.countplot(df['relationship'])\n",
        "plt.title(\"Countplot for relationship\")\n",
        "plt.show()\n",
        "\n",
        "\n",
        "plt.figure(figsize = (15,8))\n",
        "sns.countplot(x = 'relationship', hue = 'income', data=df)\n",
        "plt.title(\"Countplot for relationship per class\")\n",
        "plt.show()\n"
      ],
      "metadata": {
        "colab": {
          "base_uri": "https://localhost:8080/",
          "height": 1000
        },
        "id": "ywPkT5RLmLdZ",
        "outputId": "8737d5ab-beca-4f1b-d91c-c6a42ddbfcaa"
      },
      "execution_count": 89,
      "outputs": [
        {
          "output_type": "display_data",
          "data": {
            "text/plain": [
              "<Figure size 1080x576 with 1 Axes>"
            ],
            "image/png": "[encoded data removed]"
          },
          "metadata": {
            "needs_background": "light"
          }
        },
        {
          "output_type": "display_data",
          "data": {
            "text/plain": [
              "<Figure size 1080x576 with 1 Axes>"
            ],
            "image/png": "[encoded data removed]"
          },
          "metadata": {
            "needs_background": "light"
          }
        }
      ]
    },
    {
      "cell_type": "code",
      "source": [
        "plt.figure(figsize = (10,8))\n",
        "sns.countplot(x= 'race', hue = 'income', data=df)\n",
        "plt.title(\"Countplot for race per class\")\n",
        "plt.show()\n"
      ],
      "metadata": {
        "colab": {
          "base_uri": "https://localhost:8080/",
          "height": 513
        },
        "id": "18Y9GNPQmLbP",
        "outputId": "85c7e9c1-612f-4680-88db-533312b79524"
      },
      "execution_count": 90,
      "outputs": [
        {
          "output_type": "display_data",
          "data": {
            "text/plain": [
              "<Figure size 720x576 with 1 Axes>"
            ],
            "image/png": "[encoded data removed]"
          },
          "metadata": {
            "needs_background": "light"
          }
        }
      ]
    },
    {
      "cell_type": "code",
      "source": [
        "plt.figure(figsize = (20,8))\n",
        "sns.distplot(df['hours_per_week'])\n",
        "plt.title(\"Distributionplot for hours_per_week\")\n",
        "plt.show()"
      ],
      "metadata": {
        "colab": {
          "base_uri": "https://localhost:8080/",
          "height": 514
        },
        "id": "n4SinZOOmLXx",
        "outputId": "ab71e51a-7f96-41ee-efa2-3523956c6bae"
      },
      "execution_count": 91,
      "outputs": [
        {
          "output_type": "display_data",
          "data": {
            "text/plain": [
              "<Figure size 1440x576 with 1 Axes>"
            ],
            "image/png": "[encoded data removed]"
          },
          "metadata": {
            "needs_background": "light"
          }
        }
      ]
    },
    {
      "cell_type": "code",
      "source": [
        "plt.figure(figsize = (50,12))\n",
        "sns.countplot(x= 'native_country', hue = 'income', data=df)\n",
        "plt.title(\"Countplot for native_country per class\")\n",
        "plt.show()"
      ],
      "metadata": {
        "colab": {
          "base_uri": "https://localhost:8080/",
          "height": 326
        },
        "id": "lf1mIZcfmLV8",
        "outputId": "893d2d16-1b88-4754-9556-d715546dc24e"
      },
      "execution_count": 92,
      "outputs": [
        {
          "output_type": "display_data",
          "data": {
            "text/plain": [
              "<Figure size 3600x864 with 1 Axes>"
            ],
            "image/png": "[encoded data removed]"
          },
          "metadata": {
            "needs_background": "light"
          }
        }
      ]
    },
    {
      "cell_type": "code",
      "source": [
        "plt.figure(figsize = (20,7))\n",
        "sns.countplot(x= 'occupation', hue = 'income', data=df)\n",
        "plt.title(\"Countplot for occupation per class\")\n",
        "plt.show()"
      ],
      "metadata": {
        "colab": {
          "base_uri": "https://localhost:8080/",
          "height": 458
        },
        "id": "XXUciN8hmLSp",
        "outputId": "603a65ea-ba83-44e8-e1ed-247aeebf8d54"
      },
      "execution_count": 93,
      "outputs": [
        {
          "output_type": "display_data",
          "data": {
            "text/plain": [
              "<Figure size 1440x504 with 1 Axes>"
            ],
            "image/png": "[encoded data removed]"
          },
          "metadata": {
            "needs_background": "light"
          }
        }
      ]
    },
    {
      "cell_type": "code",
      "source": [
        "plt.figure(figsize = (20,7))\n",
        "sns.countplot(x= 'age', hue = 'income', data=df)\n",
        "plt.title(\"Countplot for occupation per class\")\n",
        "plt.show()"
      ],
      "metadata": {
        "id": "8hE9wQ7ZmLLr",
        "colab": {
          "base_uri": "https://localhost:8080/",
          "height": 458
        },
        "outputId": "1ce6533f-5c95-44f2-8a3c-1cb36b4adada"
      },
      "execution_count": 94,
      "outputs": [
        {
          "output_type": "display_data",
          "data": {
            "text/plain": [
              "<Figure size 1440x504 with 1 Axes>"
            ],
            "image/png": "[encoded data removed]"
          },
          "metadata": {
            "needs_background": "light"
          }
        }
      ]
    },
    {
      "cell_type": "code",
      "source": [
        "#converting categorical columns into numerical\n",
        "for col in df.columns:\n",
        "    if df[col].dtypes == 'object':\n",
        "        encoder = LabelEncoder()\n",
        "        df[col] = encoder.fit_transform(df[col])"
      ],
      "metadata": {
        "id": "p40O1ijzmLKK"
      },
      "execution_count": 95,
      "outputs": []
    },
    {
      "cell_type": "code",
      "source": [
        "X= df.iloc[:,0:14]\n",
        "Y= df.iloc[:,-1]\n"
      ],
      "metadata": {
        "id": "4gYmru-gXIQd"
      },
      "execution_count": 96,
      "outputs": []
    },
    {
      "cell_type": "markdown",
      "source": [
        "Feature Selection"
      ],
      "metadata": {
        "id": "RFNPQ-kaVdUV"
      }
    },
    {
      "cell_type": "code",
      "source": [
        "#apply SelectKBest class to extract top 10 best features\n",
        "\n",
        "BestFeatures = SelectKBest(score_func=chi2, k=5)\n",
        "fit = BestFeatures.fit(X,Y)"
      ],
      "metadata": {
        "id": "iy749LD3Vgg2"
      },
      "execution_count": 97,
      "outputs": []
    },
    {
      "cell_type": "code",
      "source": [
        "df_scores = pd.DataFrame(fit.scores_)\n",
        "df_columns = pd.DataFrame(X.columns)\n",
        "\n",
        "#concatenating two dataframes \n",
        "\n",
        "f_Scores = pd.concat([df_columns,df_scores],axis=1)               \n",
        "f_Scores.columns = ['Specs','Score'] \n",
        "f_Scores"
      ],
      "metadata": {
        "id": "YJIPW53bVmD3",
        "colab": {
          "base_uri": "https://localhost:8080/",
          "height": 488
        },
        "outputId": "5e7cccd5-3a91-4354-bc8d-43fcaa208c32"
      },
      "execution_count": 98,
      "outputs": [
        {
          "output_type": "execute_result",
          "data": {
            "text/plain": [
              "             Specs         Score\n",
              "0              age  8.600612e+03\n",
              "1        workclass  4.750812e+01\n",
              "2           fnlwgt  1.711477e+05\n",
              "3        education  2.979423e+02\n",
              "4    education_num  2.401422e+03\n",
              "5   marital_status  1.123470e+03\n",
              "6       occupation  5.045589e+02\n",
              "7     relationship  3.659143e+03\n",
              "8             race  3.303131e+01\n",
              "9              sex  5.024394e+02\n",
              "10    capital_gain  8.219247e+07\n",
              "11    capital_loss  1.372146e+06\n",
              "12  hours_per_week  6.476409e+03\n",
              "13  native_country  1.361926e+01"
            ],
            "text/html": [
              "\n",
              "  <div id=\"df-f621e4e5-f515-4bcb-8078-27f53c4f15c6\">\n",
              "    <div class=\"colab-df-container\">\n",
              "      <div>\n",
              "<style scoped>\n",
              "    .dataframe tbody tr th:only-of-type {\n",
              "        vertical-align: middle;\n",
              "    }\n",
              "\n",
              "    .dataframe tbody tr th {\n",
              "        vertical-align: top;\n",
              "    }\n",
              "\n",
              "    .dataframe thead th {\n",
              "        text-align: right;\n",
              "    }\n",
              "</style>\n",
              "<table border=\"1\" class=\"dataframe\">\n",
              "  <thead>\n",
              "    <tr style=\"text-align: right;\">\n",
              "      <th></th>\n",
              "      <th>Specs</th>\n",
              "      <th>Score</th>\n",
              "    </tr>\n",
              "  </thead>\n",
              "  <tbody>\n",
              "    <tr>\n",
              "      <th>0</th>\n",
              "      <td>age</td>\n",
              "      <td>8.600612e+03</td>\n",
              "    </tr>\n",
              "    <tr>\n",
              "      <th>1</th>\n",
              "      <td>workclass</td>\n",
              "      <td>4.750812e+01</td>\n",
              "    </tr>\n",
              "    <tr>\n",
              "      <th>2</th>\n",
              "      <td>fnlwgt</td>\n",
              "      <td>1.711477e+05</td>\n",
              "    </tr>\n",
              "    <tr>\n",
              "      <th>3</th>\n",
              "      <td>education</td>\n",
              "      <td>2.979423e+02</td>\n",
              "    </tr>\n",
              "    <tr>\n",
              "      <th>4</th>\n",
              "      <td>education_num</td>\n",
              "      <td>2.401422e+03</td>\n",
              "    </tr>\n",
              "    <tr>\n",
              "      <th>5</th>\n",
              "      <td>marital_status</td>\n",
              "      <td>1.123470e+03</td>\n",
              "    </tr>\n",
              "    <tr>\n",
              "      <th>6</th>\n",
              "      <td>occupation</td>\n",
              "      <td>5.045589e+02</td>\n",
              "    </tr>\n",
              "    <tr>\n",
              "      <th>7</th>\n",
              "      <td>relationship</td>\n",
              "      <td>3.659143e+03</td>\n",
              "    </tr>\n",
              "    <tr>\n",
              "      <th>8</th>\n",
              "      <td>race</td>\n",
              "      <td>3.303131e+01</td>\n",
              "    </tr>\n",
              "    <tr>\n",
              "      <th>9</th>\n",
              "      <td>sex</td>\n",
              "      <td>5.024394e+02</td>\n",
              "    </tr>\n",
              "    <tr>\n",
              "      <th>10</th>\n",
              "      <td>capital_gain</td>\n",
              "      <td>8.219247e+07</td>\n",
              "    </tr>\n",
              "    <tr>\n",
              "      <th>11</th>\n",
              "      <td>capital_loss</td>\n",
              "      <td>1.372146e+06</td>\n",
              "    </tr>\n",
              "    <tr>\n",
              "      <th>12</th>\n",
              "      <td>hours_per_week</td>\n",
              "      <td>6.476409e+03</td>\n",
              "    </tr>\n",
              "    <tr>\n",
              "      <th>13</th>\n",
              "      <td>native_country</td>\n",
              "      <td>1.361926e+01</td>\n",
              "    </tr>\n",
              "  </tbody>\n",
              "</table>\n",
              "</div>\n",
              "      <button class=\"colab-df-convert\" onclick=\"convertToInteractive('df-f621e4e5-f515-4bcb-8078-27f53c4f15c6')\"\n",
              "              title=\"Convert this dataframe to an interactive table.\"\n",
              "              style=\"display:none;\">\n",
              "        \n",
              "  <svg xmlns=\"http://www.w3.org/2000/svg\" height=\"24px\"viewBox=\"0 0 24 24\"\n",
              "       width=\"24px\">\n",
              "    <path d=\"M0 0h24v24H0V0z\" fill=\"none\"/>\n",
              "    <path d=\"M18.56 5.44l.94 2.06.94-2.06 2.06-.94-2.06-.94-.94-2.06-.94 2.06-2.06.94zm-11 1L8.5 8.5l.94-2.06 2.06-.94-2.06-.94L8.5 2.5l-.94 2.06-2.06.94zm10 10l.94 2.06.94-2.06 2.06-.94-2.06-.94-.94-2.06-.94 2.06-2.06.94z\"/><path d=\"M17.41 7.96l-1.37-1.37c-.4-.4-.92-.59-1.43-.59-.52 0-1.04.2-1.43.59L10.3 9.45l-7.72 7.72c-.78.78-.78 2.05 0 2.83L4 21.41c.39.39.9.59 1.41.59.51 0 1.02-.2 1.41-.59l7.78-7.78 2.81-2.81c.8-.78.8-2.07 0-2.86zM5.41 20L4 18.59l7.72-7.72 1.47 1.35L5.41 20z\"/>\n",
              "  </svg>\n",
              "      </button>\n",
              "      \n",
              "  <style>\n",
              "    .colab-df-container {\n",
              "      display:flex;\n",
              "      flex-wrap:wrap;\n",
              "      gap: 12px;\n",
              "    }\n",
              "\n",
              "    .colab-df-convert {\n",
              "      background-color: #E8F0FE;\n",
              "      border: none;\n",
              "      border-radius: 50%;\n",
              "      cursor: pointer;\n",
              "      display: none;\n",
              "      fill: #1967D2;\n",
              "      height: 32px;\n",
              "      padding: 0 0 0 0;\n",
              "      width: 32px;\n",
              "    }\n",
              "\n",
              "    .colab-df-convert:hover {\n",
              "      background-color: #E2EBFA;\n",
              "      box-shadow: 0px 1px 2px rgba(60, 64, 67, 0.3), 0px 1px 3px 1px rgba(60, 64, 67, 0.15);\n",
              "      fill: #174EA6;\n",
              "    }\n",
              "\n",
              "    [theme=dark] .colab-df-convert {\n",
              "      background-color: #3B4455;\n",
              "      fill: #D2E3FC;\n",
              "    }\n",
              "\n",
              "    [theme=dark] .colab-df-convert:hover {\n",
              "      background-color: #434B5C;\n",
              "      box-shadow: 0px 1px 3px 1px rgba(0, 0, 0, 0.15);\n",
              "      filter: drop-shadow(0px 1px 2px rgba(0, 0, 0, 0.3));\n",
              "      fill: #FFFFFF;\n",
              "    }\n",
              "  </style>\n",
              "\n",
              "      <script>\n",
              "        const buttonEl =\n",
              "          document.querySelector('#df-f621e4e5-f515-4bcb-8078-27f53c4f15c6 button.colab-df-convert');\n",
              "        buttonEl.style.display =\n",
              "          google.colab.kernel.accessAllowed ? 'block' : 'none';\n",
              "\n",
              "        async function convertToInteractive(key) {\n",
              "          const element = document.querySelector('#df-f621e4e5-f515-4bcb-8078-27f53c4f15c6');\n",
              "          const dataTable =\n",
              "            await google.colab.kernel.invokeFunction('convertToInteractive',\n",
              "                                                     [key], {});\n",
              "          if (!dataTable) return;\n",
              "\n",
              "          const docLinkHtml = 'Like what you see? Visit the ' +\n",
              "            '<a target=\"_blank\" href=https://colab.research.google.com/notebooks/data_table.ipynb>data table notebook</a>'\n",
              "            + ' to learn more about interactive tables.';\n",
              "          element.innerHTML = '';\n",
              "          dataTable['output_type'] = 'display_data';\n",
              "          await google.colab.output.renderOutput(dataTable, element);\n",
              "          const docLink = document.createElement('div');\n",
              "          docLink.innerHTML = docLinkHtml;\n",
              "          element.appendChild(docLink);\n",
              "        }\n",
              "      </script>\n",
              "    </div>\n",
              "  </div>\n",
              "  "
            ]
          },
          "metadata": {},
          "execution_count": 98
        }
      ]
    },
    {
      "cell_type": "code",
      "source": [
        "# print 10 best features in descending order\n",
        "print(f_Scores.nlargest(10,'Score'))"
      ],
      "metadata": {
        "colab": {
          "base_uri": "https://localhost:8080/"
        },
        "id": "VhIkYiOPpuG4",
        "outputId": "f029f752-5524-4643-fefb-a5a54b0b0ed4"
      },
      "execution_count": 99,
      "outputs": [
        {
          "output_type": "stream",
          "name": "stdout",
          "text": [
            "             Specs         Score\n",
            "10    capital_gain  8.219247e+07\n",
            "11    capital_loss  1.372146e+06\n",
            "2           fnlwgt  1.711477e+05\n",
            "0              age  8.600612e+03\n",
            "12  hours_per_week  6.476409e+03\n",
            "7     relationship  3.659143e+03\n",
            "4    education_num  2.401422e+03\n",
            "5   marital_status  1.123470e+03\n",
            "6       occupation  5.045589e+02\n",
            "9              sex  5.024394e+02\n"
          ]
        }
      ]
    },
    {
      "cell_type": "code",
      "source": [
        "#taking the feature to train the model\n",
        "x = df[['capital_gain','capital_loss','fnlwgt','age', 'hours_per_week','relationship','education_num','marital_status','occupation','sex']]\n",
        "y=df['income']\n",
        "print(x)"
      ],
      "metadata": {
        "id": "4mklZQvSQd1Q",
        "colab": {
          "base_uri": "https://localhost:8080/"
        },
        "outputId": "0e545890-1052-48a9-8b83-996dab7caff6"
      },
      "execution_count": 100,
      "outputs": [
        {
          "output_type": "stream",
          "name": "stdout",
          "text": [
            "       capital_gain  capital_loss  fnlwgt  age  hours_per_week  relationship  \\\n",
            "0              2174             0   77516   39              40             1   \n",
            "1                 0             0   83311   50              13             0   \n",
            "2                 0             0  215646   38              40             1   \n",
            "3                 0             0  234721   53              40             0   \n",
            "4                 0             0  338409   28              40             5   \n",
            "...             ...           ...     ...  ...             ...           ...   \n",
            "32556             0             0  257302   27              38             5   \n",
            "32557             0             0  154374   40              40             0   \n",
            "32558             0             0  151910   58              40             4   \n",
            "32559             0             0  201490   22              20             3   \n",
            "32560         15024             0  287927   52              40             5   \n",
            "\n",
            "       education_num  marital_status  occupation  sex  \n",
            "0                 13               4           1    1  \n",
            "1                 13               2           4    1  \n",
            "2                  9               0           6    1  \n",
            "3                  7               2           6    1  \n",
            "4                 13               2          10    0  \n",
            "...              ...             ...         ...  ...  \n",
            "32556             12               2          13    0  \n",
            "32557              9               2           7    1  \n",
            "32558              9               6           1    0  \n",
            "32559              9               4           1    1  \n",
            "32560              9               2           4    0  \n",
            "\n",
            "[32561 rows x 10 columns]\n"
          ]
        }
      ]
    },
    {
      "cell_type": "code",
      "source": [
        "print(y)"
      ],
      "metadata": {
        "id": "_0lWu2dTTKmq",
        "colab": {
          "base_uri": "https://localhost:8080/"
        },
        "outputId": "b7d072dd-d9de-4bb3-e207-77c0882be29f"
      },
      "execution_count": 101,
      "outputs": [
        {
          "output_type": "stream",
          "name": "stdout",
          "text": [
            "0        0\n",
            "1        0\n",
            "2        0\n",
            "3        0\n",
            "4        0\n",
            "        ..\n",
            "32556    0\n",
            "32557    1\n",
            "32558    0\n",
            "32559    0\n",
            "32560    1\n",
            "Name: income, Length: 32561, dtype: int64\n"
          ]
        }
      ]
    },
    {
      "cell_type": "markdown",
      "source": [
        "Oversampling"
      ],
      "metadata": {
        "id": "F9jCnJl-UplQ"
      }
    },
    {
      "cell_type": "code",
      "source": [
        "# Oversampling\n",
        "ros = RandomOverSampler(random_state=42)\n",
        "ros.fit(x,y)"
      ],
      "metadata": {
        "id": "3C2WnPOzUobT",
        "colab": {
          "base_uri": "https://localhost:8080/"
        },
        "outputId": "55de7036-21ac-4c69-faa5-0dd90e5c6f4c"
      },
      "execution_count": 102,
      "outputs": [
        {
          "output_type": "execute_result",
          "data": {
            "text/plain": [
              "RandomOverSampler(random_state=42)"
            ]
          },
          "metadata": {},
          "execution_count": 102
        }
      ]
    },
    {
      "cell_type": "code",
      "source": [
        "x_resampled, y_resampled  = ros.fit_resample(x,y)"
      ],
      "metadata": {
        "id": "GLBO-iA1Uy1a"
      },
      "execution_count": 103,
      "outputs": []
    },
    {
      "cell_type": "code",
      "source": [
        "# plot before sampling\n",
        "sns.countplot(df['income'])\n",
        "plt.title(\"before sampling\")\n",
        "plt.show()\n"
      ],
      "metadata": {
        "id": "NMvXY6l7U4OY",
        "colab": {
          "base_uri": "https://localhost:8080/",
          "height": 295
        },
        "outputId": "3cb2f3d5-c131-47e3-e3c2-ba36dd714ab8"
      },
      "execution_count": 104,
      "outputs": [
        {
          "output_type": "display_data",
          "data": {
            "text/plain": [
              "<Figure size 432x288 with 1 Axes>"
            ],
            "image/png": "[encoded data removed]"
          },
          "metadata": {
            "needs_background": "light"
          }
        }
      ]
    },
    {
      "cell_type": "code",
      "source": [
        "# plot after sampling\n",
        "sns.countplot(y_resampled)\n",
        "plt.title(\"after sampling\")\n",
        "plt.show()"
      ],
      "metadata": {
        "colab": {
          "base_uri": "https://localhost:8080/",
          "height": 295
        },
        "id": "YSHrzDLmqrm5",
        "outputId": "4f091ea7-3429-40f9-df62-36c6d67240f8"
      },
      "execution_count": 105,
      "outputs": [
        {
          "output_type": "display_data",
          "data": {
            "text/plain": [
              "<Figure size 432x288 with 1 Axes>"
            ],
            "image/png": "[encoded data removed]"
          },
          "metadata": {
            "needs_background": "light"
          }
        }
      ]
    },
    {
      "cell_type": "code",
      "source": [
        "#Splitting data into train and test\n",
        "x_train, x_test, y_train, y_test = train_test_split(x_resampled, y_resampled, test_size=0.2, random_state= 8)\n",
        "print(x.shape, x_train.shape, x_test.shape)"
      ],
      "metadata": {
        "id": "hb6VW3seR4zB",
        "colab": {
          "base_uri": "https://localhost:8080/"
        },
        "outputId": "f8c88a65-a159-4093-97d8-745d47094ff3"
      },
      "execution_count": 106,
      "outputs": [
        {
          "output_type": "stream",
          "name": "stdout",
          "text": [
            "(32561, 10) (39552, 10) (9888, 10)\n"
          ]
        }
      ]
    },
    {
      "cell_type": "markdown",
      "source": [
        "PCA\n"
      ],
      "metadata": {
        "id": "KZyZbROgOI9o"
      }
    },
    {
      "cell_type": "code",
      "source": [
        "pca = PCA()\n",
        "x_train = pca.fit_transform(x_train)\n",
        "x_test = pca.fit_transform(x_test)"
      ],
      "metadata": {
        "id": "g-OwXgBQKUeo"
      },
      "execution_count": 107,
      "outputs": []
    },
    {
      "cell_type": "markdown",
      "source": [
        "Logistic Regression"
      ],
      "metadata": {
        "id": "Z5eiDCxEHAW1"
      }
    },
    {
      "cell_type": "code",
      "source": [
        "LR = LogisticRegression()\n",
        "LR.fit(x_train,y_train)"
      ],
      "metadata": {
        "id": "4n8CJDEfR6B_",
        "colab": {
          "base_uri": "https://localhost:8080/"
        },
        "outputId": "564a3f1a-cf17-40eb-8436-63d342d65121"
      },
      "execution_count": 108,
      "outputs": [
        {
          "output_type": "execute_result",
          "data": {
            "text/plain": [
              "LogisticRegression()"
            ]
          },
          "metadata": {},
          "execution_count": 108
        }
      ]
    },
    {
      "cell_type": "code",
      "source": [
        "#accuracy on training data\n",
        "x_train_prediction = LR.predict(x_train)\n",
        "training_data_accuracy = accuracy_score(x_train_prediction,y_train)\n",
        "print('Accuracy on training data:',training_data_accuracy)\n",
        "\n",
        "#Accuracy on test data\n",
        "x_test_prediction = LR.predict(x_test)\n",
        "test_data_accuracy = accuracy_score(x_test_prediction, y_test)\n",
        "print('Accuracy on test data:',test_data_accuracy)"
      ],
      "metadata": {
        "id": "wy5TY4cKXbKv",
        "colab": {
          "base_uri": "https://localhost:8080/"
        },
        "outputId": "8e0b2c43-5143-4a9d-fea2-a057cbc09db8"
      },
      "execution_count": 109,
      "outputs": [
        {
          "output_type": "stream",
          "name": "stdout",
          "text": [
            "Accuracy on training data: 0.7502528317152104\n",
            "Accuracy on test data: 0.7554611650485437\n"
          ]
        }
      ]
    },
    {
      "cell_type": "code",
      "source": [
        "#checking the confusion matrix\n",
        "cm = confusion_matrix(x_test_prediction, y_test)\n",
        "print(cm)"
      ],
      "metadata": {
        "id": "l-hFmFnMXupU",
        "colab": {
          "base_uri": "https://localhost:8080/"
        },
        "outputId": "2fc550f1-92fc-4ae4-cc3d-02af09b4d688"
      },
      "execution_count": 110,
      "outputs": [
        {
          "output_type": "stream",
          "name": "stdout",
          "text": [
            "[[4015 1437]\n",
            " [ 981 3455]]\n"
          ]
        }
      ]
    },
    {
      "cell_type": "code",
      "source": [
        "#plotting the confusion matrix\n",
        "sns.heatmap(cm, annot=True, cmap='YlGnBu', fmt='d')"
      ],
      "metadata": {
        "id": "K7-n7fDuX2xH",
        "colab": {
          "base_uri": "https://localhost:8080/",
          "height": 285
        },
        "outputId": "789502e1-09ae-48b3-cd7e-2515ee9da69e"
      },
      "execution_count": 111,
      "outputs": [
        {
          "output_type": "execute_result",
          "data": {
            "text/plain": [
              "<matplotlib.axes._subplots.AxesSubplot at 0x7f4959a864d0>"
            ]
          },
          "metadata": {},
          "execution_count": 111
        },
        {
          "output_type": "display_data",
          "data": {
            "text/plain": [
              "<Figure size 432x288 with 2 Axes>"
            ],
            "image/png": "[encoded data removed]"
          },
          "metadata": {
            "needs_background": "light"
          }
        }
      ]
    },
    {
      "cell_type": "code",
      "source": [
        "#printing classification report precision, recall, f1-score   \n",
        "print(classification_report(x_test_prediction, y_test))"
      ],
      "metadata": {
        "id": "rVJsvgEgZEBr",
        "colab": {
          "base_uri": "https://localhost:8080/"
        },
        "outputId": "f2d9bf0d-2ee5-42ed-ec39-58eff2a9aa5f"
      },
      "execution_count": 112,
      "outputs": [
        {
          "output_type": "stream",
          "name": "stdout",
          "text": [
            "              precision    recall  f1-score   support\n",
            "\n",
            "           0       0.80      0.74      0.77      5452\n",
            "           1       0.71      0.78      0.74      4436\n",
            "\n",
            "    accuracy                           0.76      9888\n",
            "   macro avg       0.75      0.76      0.75      9888\n",
            "weighted avg       0.76      0.76      0.76      9888\n",
            "\n"
          ]
        }
      ]
    },
    {
      "cell_type": "code",
      "source": [
        "#calculating the predicted probability for Logistic Regression\n",
        "y_hat = LR.predict_proba(x_test)[:,1]\n",
        "\n",
        "#defining thresold score\n",
        "thresholds = np.linspace(0,1,100)\n",
        "\n",
        "#defining fpr and tpr\n",
        "fpr, tpr, thresold = roc_curve(y_test, y_hat)\n",
        "\n",
        "#roc_auc_score\n",
        "LR_roc_auc = roc_auc_score(y_test, LR.predict(x_test))\n",
        "LR_roc_auc\n",
        "\n"
      ],
      "metadata": {
        "id": "XtQtklWPbEMu",
        "colab": {
          "base_uri": "https://localhost:8080/"
        },
        "outputId": "cfa8416e-bb09-4ad1-a275-e3e49efd4076"
      },
      "execution_count": 113,
      "outputs": [
        {
          "output_type": "execute_result",
          "data": {
            "text/plain": [
              "0.754949012357883"
            ]
          },
          "metadata": {},
          "execution_count": 113
        }
      ]
    },
    {
      "cell_type": "code",
      "source": [
        "# plotting the roc curve\n",
        "plt.figure()\n",
        "plt.plot(fpr, tpr, label='Logistic Regression (senstivity = %0.3f)',color='r' %LR_roc_auc)\n",
        "plt.plot([0,1],[0,1], 'g--')\n",
        "plt.xlabel('False positive rate')\n",
        "plt.ylabel('True positive rate')\n",
        "plt.title(\"Receiver operating characteristics\")\n",
        "plt.legend(loc=\"lower right\")\n"
      ],
      "metadata": {
        "id": "bqC_wfSl0_ve",
        "colab": {
          "base_uri": "https://localhost:8080/",
          "height": 312
        },
        "outputId": "7b5acfc2-8dbe-4699-ce93-b188bc8bb2ea"
      },
      "execution_count": 114,
      "outputs": [
        {
          "output_type": "execute_result",
          "data": {
            "text/plain": [
              "<matplotlib.legend.Legend at 0x7f495955d1d0>"
            ]
          },
          "metadata": {},
          "execution_count": 114
        },
        {
          "output_type": "display_data",
          "data": {
            "text/plain": [
              "<Figure size 432x288 with 1 Axes>"
            ],
            "image/png": "[encoded data removed]"
          },
          "metadata": {
            "needs_background": "light"
          }
        }
      ]
    },
    {
      "cell_type": "code",
      "source": [
        "# cross validation score\n",
        "scores = cross_val_score(LR, x_train,y_train,cv=3)\n",
        "print(\"cross-validation_scores: \",scores)\n",
        "print(\"%0.2f accuracy with a standard deviation of %0.2f\" % (scores.mean(), scores.std()))"
      ],
      "metadata": {
        "id": "tHyWo30qkcti",
        "colab": {
          "base_uri": "https://localhost:8080/"
        },
        "outputId": "d5d52161-f43c-49c5-be93-69b250211dd4"
      },
      "execution_count": 115,
      "outputs": [
        {
          "output_type": "stream",
          "name": "stdout",
          "text": [
            "cross-validation_scores:  [0.74522148 0.742946   0.68727245]\n",
            "0.73 accuracy with a standard deviation of 0.03\n"
          ]
        }
      ]
    },
    {
      "cell_type": "markdown",
      "source": [
        "Naive Bayes"
      ],
      "metadata": {
        "id": "toWnVqfEF5zP"
      }
    },
    {
      "cell_type": "code",
      "source": [
        "NB = GaussianNB()\n",
        "NB.fit(x_train,y_train)"
      ],
      "metadata": {
        "id": "n-AXB7tjF_Mp",
        "colab": {
          "base_uri": "https://localhost:8080/"
        },
        "outputId": "9794c50c-c57a-4d08-b7fa-568b92dc76e3"
      },
      "execution_count": 116,
      "outputs": [
        {
          "output_type": "execute_result",
          "data": {
            "text/plain": [
              "GaussianNB()"
            ]
          },
          "metadata": {},
          "execution_count": 116
        }
      ]
    },
    {
      "cell_type": "code",
      "source": [
        "#accuracy on training data\n",
        "x_train_prediction = NB.predict(x_train)\n",
        "training_data_accuracy = accuracy_score(x_train_prediction,y_train)\n",
        "print('Accuracy on training data:',training_data_accuracy)\n",
        "\n",
        "#Accuracy on test data\n",
        "x_test_prediction = NB.predict(x_test)\n",
        "test_data_accuracy = accuracy_score(x_test_prediction, y_test)\n",
        "print('Accuracy on test data:',test_data_accuracy)"
      ],
      "metadata": {
        "id": "W4psqyu0GE2y",
        "colab": {
          "base_uri": "https://localhost:8080/"
        },
        "outputId": "4def14ef-c2dc-4e44-a8f1-8afd57dc437d"
      },
      "execution_count": 117,
      "outputs": [
        {
          "output_type": "stream",
          "name": "stdout",
          "text": [
            "Accuracy on training data: 0.6256320792880259\n",
            "Accuracy on test data: 0.6354166666666666\n"
          ]
        }
      ]
    },
    {
      "cell_type": "code",
      "source": [
        "#checking the confusion matrix\n",
        "cm = confusion_matrix(x_test_prediction, y_test)\n",
        "print(cm)"
      ],
      "metadata": {
        "id": "qZFjseaGGh9M",
        "colab": {
          "base_uri": "https://localhost:8080/"
        },
        "outputId": "4961da74-7702-40e9-c22d-47f556d9ec94"
      },
      "execution_count": 118,
      "outputs": [
        {
          "output_type": "stream",
          "name": "stdout",
          "text": [
            "[[4711 3320]\n",
            " [ 285 1572]]\n"
          ]
        }
      ]
    },
    {
      "cell_type": "code",
      "source": [
        "#plotting the confusion matrix\n",
        "sns.heatmap(cm, annot=True, cmap='YlGnBu', fmt='d')"
      ],
      "metadata": {
        "id": "D6DNmZnyGrfQ",
        "colab": {
          "base_uri": "https://localhost:8080/",
          "height": 282
        },
        "outputId": "ca55f03a-ecfc-4b9e-e90e-7901e2a73b46"
      },
      "execution_count": 119,
      "outputs": [
        {
          "output_type": "execute_result",
          "data": {
            "text/plain": [
              "<matplotlib.axes._subplots.AxesSubplot at 0x7f49595f6a50>"
            ]
          },
          "metadata": {},
          "execution_count": 119
        },
        {
          "output_type": "display_data",
          "data": {
            "text/plain": [
              "<Figure size 432x288 with 2 Axes>"
            ],
            "image/png": "[encoded data removed]"
          },
          "metadata": {
            "needs_background": "light"
          }
        }
      ]
    },
    {
      "cell_type": "code",
      "source": [
        "#calculating the predicted probability for Naive Bayes\n",
        "y_hat = NB.predict_proba(x_test)[:,1]\n",
        "\n",
        "#defining fpr and tpr\n",
        "fpr, tpr, thresold = roc_curve(y_test, y_hat)\n",
        "\n",
        "#roc_auc_score\n",
        "NB_roc_auc = roc_auc_score(y_test, NB.predict(x_test))\n",
        "NB_roc_auc\n"
      ],
      "metadata": {
        "id": "GmlQW1sDG27w",
        "colab": {
          "base_uri": "https://localhost:8080/"
        },
        "outputId": "7155946d-cdf0-4912-ad72-5921ba070a98"
      },
      "execution_count": 120,
      "outputs": [
        {
          "output_type": "execute_result",
          "data": {
            "text/plain": [
              "0.6321476641656744"
            ]
          },
          "metadata": {},
          "execution_count": 120
        }
      ]
    },
    {
      "cell_type": "code",
      "source": [
        "# plotting the roc curve\n",
        "plt.figure()\n",
        "plt.plot(fpr, tpr, label='Naive Bayes (senstivity = %0.2f)',color='b' %NB_roc_auc)\n",
        "plt.plot([0,1],[0,1], 'g--')\n",
        "plt.xlabel('False positive rate')\n",
        "plt.ylabel('True positive rate')\n",
        "plt.title(\"Receiver operating characteristics\")\n",
        "plt.legend(loc=\"lower right\")"
      ],
      "metadata": {
        "id": "jMRd4pO4Odhy",
        "colab": {
          "base_uri": "https://localhost:8080/",
          "height": 312
        },
        "outputId": "52d57943-7a7f-4d11-fe5f-d16aab7ec6ea"
      },
      "execution_count": 121,
      "outputs": [
        {
          "output_type": "execute_result",
          "data": {
            "text/plain": [
              "<matplotlib.legend.Legend at 0x7f495a3ffe50>"
            ]
          },
          "metadata": {},
          "execution_count": 121
        },
        {
          "output_type": "display_data",
          "data": {
            "text/plain": [
              "<Figure size 432x288 with 1 Axes>"
            ],
            "image/png": "[encoded data removed]"
          },
          "metadata": {
            "needs_background": "light"
          }
        }
      ]
    },
    {
      "cell_type": "code",
      "source": [
        "# cross validation score\n",
        "scores = cross_val_score(NB, x_train,y_train,cv=3)\n",
        "print(\"cross-validation_scores: \",scores)\n",
        "print(\"%0.2f accuracy with a standard deviation of %0.2f\" % (scores.mean(), scores.std()))"
      ],
      "metadata": {
        "id": "KZKPA_ECOp1m",
        "colab": {
          "base_uri": "https://localhost:8080/"
        },
        "outputId": "72c28c46-c58f-4ff9-e1a1-062bdf855a1b"
      },
      "execution_count": 122,
      "outputs": [
        {
          "output_type": "stream",
          "name": "stdout",
          "text": [
            "cross-validation_scores:  [0.62507585 0.62598604 0.6254551 ]\n",
            "0.63 accuracy with a standard deviation of 0.00\n"
          ]
        }
      ]
    },
    {
      "cell_type": "markdown",
      "source": [
        "Decision Tree\n"
      ],
      "metadata": {
        "id": "SHSnGvIrQX3c"
      }
    },
    {
      "cell_type": "code",
      "source": [
        "DT = DecisionTreeClassifier()\n",
        "DT.fit(x_train,y_train)"
      ],
      "metadata": {
        "id": "iWfj9Zc0QZcM",
        "colab": {
          "base_uri": "https://localhost:8080/"
        },
        "outputId": "aba98471-a092-4eb6-f6f5-bac5d15b9ec9"
      },
      "execution_count": 123,
      "outputs": [
        {
          "output_type": "execute_result",
          "data": {
            "text/plain": [
              "DecisionTreeClassifier()"
            ]
          },
          "metadata": {},
          "execution_count": 123
        }
      ]
    },
    {
      "cell_type": "code",
      "source": [
        "#accuracy on training data\n",
        "x_train_prediction = DT.predict(x_train)\n",
        "training_data_accuracy = accuracy_score(x_train_prediction,y_train)\n",
        "print('Accuracy on training data:',training_data_accuracy)\n",
        "\n",
        "#Accuracy on test data\n",
        "x_test_prediction = DT.predict(x_test)\n",
        "test_data_accuracy = accuracy_score(x_test_prediction, y_test)\n",
        "print('Accuracy on test data:',test_data_accuracy)"
      ],
      "metadata": {
        "id": "peUnccGxQnBC",
        "colab": {
          "base_uri": "https://localhost:8080/"
        },
        "outputId": "2c464698-40ba-49ac-c6e6-3f77c08c611a"
      },
      "execution_count": 124,
      "outputs": [
        {
          "output_type": "stream",
          "name": "stdout",
          "text": [
            "Accuracy on training data: 0.9999494336569579\n",
            "Accuracy on test data: 0.7452467637540453\n"
          ]
        }
      ]
    },
    {
      "cell_type": "code",
      "source": [
        "#checking the confusion matrix\n",
        "cm = confusion_matrix(x_test_prediction, y_test)\n",
        "print(cm)"
      ],
      "metadata": {
        "id": "7DbxkoZKRLq4",
        "colab": {
          "base_uri": "https://localhost:8080/"
        },
        "outputId": "9bfe4031-ff79-4278-bc57-8c322f7c9d62"
      },
      "execution_count": 125,
      "outputs": [
        {
          "output_type": "stream",
          "name": "stdout",
          "text": [
            "[[4109 1632]\n",
            " [ 887 3260]]\n"
          ]
        }
      ]
    },
    {
      "cell_type": "code",
      "source": [
        "#plotting the confusion matrix\n",
        "sns.heatmap(cm, annot=True, cmap='YlGnBu', fmt='d')"
      ],
      "metadata": {
        "id": "Y_0WcDLPRyfm",
        "colab": {
          "base_uri": "https://localhost:8080/",
          "height": 282
        },
        "outputId": "51909480-d5fc-4dd8-b853-f902ecf93205"
      },
      "execution_count": 126,
      "outputs": [
        {
          "output_type": "execute_result",
          "data": {
            "text/plain": [
              "<matplotlib.axes._subplots.AxesSubplot at 0x7f4959eebe50>"
            ]
          },
          "metadata": {},
          "execution_count": 126
        },
        {
          "output_type": "display_data",
          "data": {
            "text/plain": [
              "<Figure size 432x288 with 2 Axes>"
            ],
            "image/png": "[encoded data removed]"
          },
          "metadata": {
            "needs_background": "light"
          }
        }
      ]
    },
    {
      "cell_type": "code",
      "source": [
        "#calculating the predicted probability for Decision Tree\n",
        "y_hat = DT.predict_proba(x_test)[:,1]\n",
        "\n",
        "#defining fpr and tpr\n",
        "fpr, tpr, thresold = roc_curve(y_test, y_hat)\n",
        "\n",
        "#roc_auc_score\n",
        "DT_roc_auc = roc_auc_score(y_test, DT.predict(x_test))\n",
        "DT_roc_auc"
      ],
      "metadata": {
        "id": "PPyrDaGOR4Y9",
        "colab": {
          "base_uri": "https://localhost:8080/"
        },
        "outputId": "7ad68e1d-c460-4041-f037-41af61e47af0"
      },
      "execution_count": 127,
      "outputs": [
        {
          "output_type": "execute_result",
          "data": {
            "text/plain": [
              "0.7444260396051918"
            ]
          },
          "metadata": {},
          "execution_count": 127
        }
      ]
    },
    {
      "cell_type": "code",
      "source": [
        "# plotting the roc curve\n",
        "plt.figure()\n",
        "plt.plot(fpr, tpr, label='Decision Tree (senstivity = %0.3f)',color='y' %DT_roc_auc)\n",
        "plt.plot([0,1],[0,1], 'g--')\n",
        "plt.xlabel('False positive rate')\n",
        "plt.ylabel('True positive rate')\n",
        "plt.title(\"Receiver operating characteristics\")\n",
        "plt.legend(loc=\"lower right\")"
      ],
      "metadata": {
        "id": "QILQrfBfSCFH",
        "colab": {
          "base_uri": "https://localhost:8080/",
          "height": 312
        },
        "outputId": "47ca0938-aed2-481c-fe4f-b93bd1445407"
      },
      "execution_count": 128,
      "outputs": [
        {
          "output_type": "execute_result",
          "data": {
            "text/plain": [
              "<matplotlib.legend.Legend at 0x7f4959e15290>"
            ]
          },
          "metadata": {},
          "execution_count": 128
        },
        {
          "output_type": "display_data",
          "data": {
            "text/plain": [
              "<Figure size 432x288 with 1 Axes>"
            ],
            "image/png": "[encoded data removed]"
          },
          "metadata": {
            "needs_background": "light"
          }
        }
      ]
    },
    {
      "cell_type": "code",
      "source": [
        "# cross validation score\n",
        "scores = cross_val_score(DT, x_train,y_train,cv=3)\n",
        "print(\"cross-validation_scores: \",scores)\n",
        "print(\"%0.2f accuracy with a standard deviation of %0.2f\" % (scores.mean(), scores.std()))"
      ],
      "metadata": {
        "id": "c_nxjfiSjD63",
        "colab": {
          "base_uri": "https://localhost:8080/"
        },
        "outputId": "76da246b-a34b-4575-d381-f8119630917c"
      },
      "execution_count": 129,
      "outputs": [
        {
          "output_type": "stream",
          "name": "stdout",
          "text": [
            "cross-validation_scores:  [0.87727549 0.88614988 0.8912318 ]\n",
            "0.88 accuracy with a standard deviation of 0.01\n"
          ]
        }
      ]
    },
    {
      "cell_type": "markdown",
      "source": [
        "Random Forest"
      ],
      "metadata": {
        "id": "fMjw9rCVSpwH"
      }
    },
    {
      "cell_type": "code",
      "source": [
        "RF = RandomForestClassifier()\n",
        "RF.fit(x_train,y_train)"
      ],
      "metadata": {
        "id": "Tt2wCZY3SGDy",
        "colab": {
          "base_uri": "https://localhost:8080/"
        },
        "outputId": "bf0e0400-1d09-40cb-b778-c36c594f63fe"
      },
      "execution_count": 130,
      "outputs": [
        {
          "output_type": "execute_result",
          "data": {
            "text/plain": [
              "RandomForestClassifier()"
            ]
          },
          "metadata": {},
          "execution_count": 130
        }
      ]
    },
    {
      "cell_type": "code",
      "source": [
        "#accuracy on training data\n",
        "x_train_prediction = RF.predict(x_train)\n",
        "training_data_accuracy = accuracy_score(x_train_prediction,y_train)\n",
        "print('Accuracy on training data:',training_data_accuracy)\n",
        "\n",
        "#Accuracy on test data\n",
        "x_test_prediction = RF.predict(x_test)\n",
        "test_data_accuracy = accuracy_score(x_test_prediction, y_test)\n",
        "print('Accuracy on test data:',test_data_accuracy)"
      ],
      "metadata": {
        "id": "_WKw_ojOSvsL",
        "colab": {
          "base_uri": "https://localhost:8080/"
        },
        "outputId": "c9199890-93c0-425e-bacd-7e433e5df369"
      },
      "execution_count": 131,
      "outputs": [
        {
          "output_type": "stream",
          "name": "stdout",
          "text": [
            "Accuracy on training data: 0.9999494336569579\n",
            "Accuracy on test data: 0.8344457928802589\n"
          ]
        }
      ]
    },
    {
      "cell_type": "code",
      "source": [
        "#checking the confusion matrix\n",
        "cm = confusion_matrix(x_test_prediction, y_test)\n",
        "print(cm)"
      ],
      "metadata": {
        "id": "Pyb1nlSTS0wl",
        "colab": {
          "base_uri": "https://localhost:8080/"
        },
        "outputId": "edd0b67e-0c8f-4d62-eae6-ea77ddb0c261"
      },
      "execution_count": 132,
      "outputs": [
        {
          "output_type": "stream",
          "name": "stdout",
          "text": [
            "[[4560 1201]\n",
            " [ 436 3691]]\n"
          ]
        }
      ]
    },
    {
      "cell_type": "code",
      "source": [
        "#plotting the confusion matrix\n",
        "sns.heatmap(cm, annot=True, cmap='YlGnBu', fmt='d')"
      ],
      "metadata": {
        "id": "Letzh0okS5g4",
        "colab": {
          "base_uri": "https://localhost:8080/",
          "height": 283
        },
        "outputId": "4a9130c2-e7cc-4a61-cb37-444d9ef73ec6"
      },
      "execution_count": 133,
      "outputs": [
        {
          "output_type": "execute_result",
          "data": {
            "text/plain": [
              "<matplotlib.axes._subplots.AxesSubplot at 0x7f4959f24c10>"
            ]
          },
          "metadata": {},
          "execution_count": 133
        },
        {
          "output_type": "display_data",
          "data": {
            "text/plain": [
              "<Figure size 432x288 with 2 Axes>"
            ],
            "image/png": "[encoded data removed]"
          },
          "metadata": {
            "needs_background": "light"
          }
        }
      ]
    },
    {
      "cell_type": "code",
      "source": [
        "#calculating the predicted probability for Random Forest\n",
        "y_hat = RF.predict_proba(x_test)[:,1]\n",
        "\n",
        "#defining fpr and tpr\n",
        "fpr, tpr, thresold = roc_curve(y_test, y_hat)\n",
        "\n",
        "#roc_auc_score\n",
        "RF_roc_auc = roc_auc_score(y_test, RF.predict(x_test))\n",
        "RF_roc_auc"
      ],
      "metadata": {
        "id": "7H6xdia1S9Zx",
        "colab": {
          "base_uri": "https://localhost:8080/"
        },
        "outputId": "dfdcebe4-0fa4-421e-891b-4bb875a273d6"
      },
      "execution_count": 138,
      "outputs": [
        {
          "output_type": "execute_result",
          "data": {
            "text/plain": [
              "0.8336136611660546"
            ]
          },
          "metadata": {},
          "execution_count": 138
        }
      ]
    },
    {
      "cell_type": "code",
      "source": [
        "# plotting the roc curve\n",
        "plt.figure()\n",
        "plt.plot(fpr, tpr, label='Random Forest (senstivity = %0.2f)',color='g' %RF_roc_auc)\n",
        "plt.plot([0,1],[0,1], 'y--')\n",
        "plt.xlabel('False positive rate')\n",
        "plt.ylabel('True positive rate')\n",
        "plt.title(\"Receiver operating characteristics\")\n",
        "plt.legend(loc=\"lower right\")"
      ],
      "metadata": {
        "id": "hW4hYaPdTLnH",
        "colab": {
          "base_uri": "https://localhost:8080/",
          "height": 312
        },
        "outputId": "1d0bd80e-d470-42cc-8c47-ea2e162c0c4c"
      },
      "execution_count": 139,
      "outputs": [
        {
          "output_type": "execute_result",
          "data": {
            "text/plain": [
              "<matplotlib.legend.Legend at 0x7f4959f18710>"
            ]
          },
          "metadata": {},
          "execution_count": 139
        },
        {
          "output_type": "display_data",
          "data": {
            "text/plain": [
              "<Figure size 432x288 with 1 Axes>"
            ],
            "image/png": "[encoded data removed]"
          },
          "metadata": {
            "needs_background": "light"
          }
        }
      ]
    },
    {
      "cell_type": "code",
      "source": [
        "# cross validation score\n",
        "scores = cross_val_score(RF, x_train,y_train,cv=3)\n",
        "print(\"cross-validation_scores: \",scores)\n",
        "print(\"%0.2f accuracy with a standard deviation of %0.2f\" % (scores.mean(), scores.std()))"
      ],
      "metadata": {
        "id": "lgm4Wdhfi6CW",
        "colab": {
          "base_uri": "https://localhost:8080/"
        },
        "outputId": "d8616170-a733-452c-d5ef-ab418f660479"
      },
      "execution_count": 136,
      "outputs": [
        {
          "output_type": "stream",
          "name": "stdout",
          "text": [
            "cross-validation_scores:  [0.90496056 0.90958738 0.91019417]\n",
            "0.91 accuracy with a standard deviation of 0.00\n"
          ]
        }
      ]
    },
    {
      "cell_type": "markdown",
      "source": [
        "XGB"
      ],
      "metadata": {
        "id": "7nqojoLFi1o2"
      }
    },
    {
      "cell_type": "code",
      "source": [
        "xgb = xgb.XGBClassifier()\n",
        "xgb.fit(x_train,y_train)"
      ],
      "metadata": {
        "id": "GaVVa_OYTXkB",
        "colab": {
          "base_uri": "https://localhost:8080/"
        },
        "outputId": "95da097c-c90c-4002-bd4f-904332f349cf"
      },
      "execution_count": 137,
      "outputs": [
        {
          "output_type": "execute_result",
          "data": {
            "text/plain": [
              "XGBClassifier()"
            ]
          },
          "metadata": {},
          "execution_count": 137
        }
      ]
    },
    {
      "cell_type": "code",
      "source": [
        "#accuracy on training data\n",
        "x_train_prediction = xgb.predict(x_train)\n",
        "training_data_accuracy = accuracy_score(x_train_prediction,y_train)\n",
        "print('Accuracy on training data:',training_data_accuracy)\n",
        "\n",
        "#Accuracy on test data\n",
        "x_test_prediction = xgb.predict(x_test)\n",
        "test_data_accuracy = accuracy_score(x_test_prediction, y_test)\n",
        "print('Accuracy on test data:',test_data_accuracy)"
      ],
      "metadata": {
        "id": "El9k-x4bT80k",
        "colab": {
          "base_uri": "https://localhost:8080/"
        },
        "outputId": "09417e70-d7e2-4466-a9e3-95b31d5bbd9c"
      },
      "execution_count": 140,
      "outputs": [
        {
          "output_type": "stream",
          "name": "stdout",
          "text": [
            "Accuracy on training data: 0.838061286407767\n",
            "Accuracy on test data: 0.8311084142394822\n"
          ]
        }
      ]
    },
    {
      "cell_type": "code",
      "source": [
        "#checking the confusion matrix\n",
        "cm = confusion_matrix(x_test_prediction, y_test)\n",
        "print(cm)"
      ],
      "metadata": {
        "id": "tdB2GwGQUIWy",
        "colab": {
          "base_uri": "https://localhost:8080/"
        },
        "outputId": "2211c533-801c-465b-8fd1-6660b4e8b65e"
      },
      "execution_count": 141,
      "outputs": [
        {
          "output_type": "stream",
          "name": "stdout",
          "text": [
            "[[3901  575]\n",
            " [1095 4317]]\n"
          ]
        }
      ]
    },
    {
      "cell_type": "code",
      "source": [
        "#plotting the confusion matrix\n",
        "sns.heatmap(cm, annot=True, cmap='YlGnBu', fmt='d')"
      ],
      "metadata": {
        "id": "ND4z_YatUQlv",
        "colab": {
          "base_uri": "https://localhost:8080/",
          "height": 282
        },
        "outputId": "89d68b66-f64c-4608-9b61-0b90e009c5a6"
      },
      "execution_count": 142,
      "outputs": [
        {
          "output_type": "execute_result",
          "data": {
            "text/plain": [
              "<matplotlib.axes._subplots.AxesSubplot at 0x7f4959671790>"
            ]
          },
          "metadata": {},
          "execution_count": 142
        },
        {
          "output_type": "display_data",
          "data": {
            "text/plain": [
              "<Figure size 432x288 with 2 Axes>"
            ],
            "image/png": "[encoded data removed]"
          },
          "metadata": {
            "needs_background": "light"
          }
        }
      ]
    },
    {
      "cell_type": "code",
      "source": [
        "#calculating the predicted probability for XG boost\n",
        "y_hat = xgb.predict_proba(x_test)[:,1]\n",
        "\n",
        "#defining fpr and tpr\n",
        "fpr, tpr, thresold = roc_curve(y_test, y_hat)\n",
        "\n",
        "#roc_auc_score\n",
        "xgb_roc_auc = roc_auc_score(y_test, xgb.predict(x_test))\n",
        "xgb_roc_auc"
      ],
      "metadata": {
        "id": "5O21VgqFUWWi",
        "colab": {
          "base_uri": "https://localhost:8080/"
        },
        "outputId": "df8dc66a-97c3-48d6-ca3a-dd50be5d94c3"
      },
      "execution_count": 143,
      "outputs": [
        {
          "output_type": "execute_result",
          "data": {
            "text/plain": [
              "0.8316429104035478"
            ]
          },
          "metadata": {},
          "execution_count": 143
        }
      ]
    },
    {
      "cell_type": "code",
      "source": [
        "# plotting the roc curve\n",
        "plt.figure()\n",
        "plt.plot(fpr, tpr, label='XGB (senstivity = %0.2f)',color='g' %xgb_roc_auc)\n",
        "plt.plot([0,1],[0,1], 'r--')\n",
        "plt.xlabel('False positive rate')\n",
        "plt.ylabel('True positive rate')\n",
        "plt.title(\"Receiver operating characteristics\")\n",
        "plt.legend(loc=\"lower right\")"
      ],
      "metadata": {
        "id": "WOzqsBuzUbG2",
        "colab": {
          "base_uri": "https://localhost:8080/",
          "height": 312
        },
        "outputId": "83c71247-c716-4872-83d0-8aee6646c140"
      },
      "execution_count": 145,
      "outputs": [
        {
          "output_type": "execute_result",
          "data": {
            "text/plain": [
              "<matplotlib.legend.Legend at 0x7f4959476cd0>"
            ]
          },
          "metadata": {},
          "execution_count": 145
        },
        {
          "output_type": "display_data",
          "data": {
            "text/plain": [
              "<Figure size 432x288 with 1 Axes>"
            ],
            "image/png": "[encoded data removed]"
          },
          "metadata": {
            "needs_background": "light"
          }
        }
      ]
    },
    {
      "cell_type": "code",
      "source": [
        "# cross validation score\n",
        "scores = cross_val_score(xgb, x_train,y_train,cv=3)\n",
        "print(\"cross-validation_scores: \",scores)\n",
        "print(\"%0.2f accuracy with a standard deviation of %0.2f\" % (scores.mean(), scores.std()))"
      ],
      "metadata": {
        "id": "kQV9qWIGiADV",
        "colab": {
          "base_uri": "https://localhost:8080/"
        },
        "outputId": "12997e03-1165-4680-9090-d375658e57b9"
      },
      "execution_count": 146,
      "outputs": [
        {
          "output_type": "stream",
          "name": "stdout",
          "text": [
            "cross-validation_scores:  [0.83351032 0.8365443  0.83222087]\n",
            "0.83 accuracy with a standard deviation of 0.00\n"
          ]
        }
      ]
    },
    {
      "cell_type": "markdown",
      "source": [
        "KNN"
      ],
      "metadata": {
        "id": "3gFttxBRZiqr"
      }
    },
    {
      "cell_type": "code",
      "source": [
        "knn = KNeighborsClassifier()\n",
        "knn.fit(x_train,y_train)"
      ],
      "metadata": {
        "id": "3T1TTASmWfkN",
        "colab": {
          "base_uri": "https://localhost:8080/"
        },
        "outputId": "00d70016-b627-4d8a-e40f-75b567d56bee"
      },
      "execution_count": 147,
      "outputs": [
        {
          "output_type": "execute_result",
          "data": {
            "text/plain": [
              "KNeighborsClassifier()"
            ]
          },
          "metadata": {},
          "execution_count": 147
        }
      ]
    },
    {
      "cell_type": "code",
      "source": [
        "#accuracy on training data\n",
        "x_train_prediction = knn.predict(x_train)\n",
        "training_data_accuracy = accuracy_score(x_train_prediction,y_train)\n",
        "print('Accuracy on training data:',training_data_accuracy)\n",
        "\n",
        "#Accuracy on test data\n",
        "x_test_prediction = knn.predict(x_test)\n",
        "test_data_accuracy = accuracy_score(x_test_prediction, y_test)\n",
        "print('Accuracy on test data:',test_data_accuracy)"
      ],
      "metadata": {
        "id": "ayboKOH8Zur-",
        "colab": {
          "base_uri": "https://localhost:8080/"
        },
        "outputId": "29121620-ef67-48bb-a46a-b0020a927fb4"
      },
      "execution_count": 148,
      "outputs": [
        {
          "output_type": "stream",
          "name": "stdout",
          "text": [
            "Accuracy on training data: 0.8290604773462783\n",
            "Accuracy on test data: 0.6023462783171522\n"
          ]
        }
      ]
    },
    {
      "cell_type": "code",
      "source": [
        "#checking the confusion matrix\n",
        "cm = confusion_matrix(x_test_prediction, y_test)\n",
        "print(cm)"
      ],
      "metadata": {
        "id": "tpN4iXRHZ81h",
        "colab": {
          "base_uri": "https://localhost:8080/"
        },
        "outputId": "49a976a5-09bc-442d-968b-fa53457fefec"
      },
      "execution_count": 149,
      "outputs": [
        {
          "output_type": "stream",
          "name": "stdout",
          "text": [
            "[[3242 2178]\n",
            " [1754 2714]]\n"
          ]
        }
      ]
    },
    {
      "cell_type": "code",
      "source": [
        "#plotting the confusion matrix\n",
        "sns.heatmap(cm, annot=True, cmap='YlGnBu', fmt='d')"
      ],
      "metadata": {
        "id": "DgllHXiOaAUR",
        "colab": {
          "base_uri": "https://localhost:8080/",
          "height": 282
        },
        "outputId": "20404004-f105-47f8-9608-30d0afe99dcc"
      },
      "execution_count": 150,
      "outputs": [
        {
          "output_type": "execute_result",
          "data": {
            "text/plain": [
              "<matplotlib.axes._subplots.AxesSubplot at 0x7f4959b71850>"
            ]
          },
          "metadata": {},
          "execution_count": 150
        },
        {
          "output_type": "display_data",
          "data": {
            "text/plain": [
              "<Figure size 432x288 with 2 Axes>"
            ],
            "image/png": "[encoded data removed]"
          },
          "metadata": {
            "needs_background": "light"
          }
        }
      ]
    },
    {
      "cell_type": "code",
      "source": [
        "#calculating the predicted probability for k-nearest neighbors\n",
        "y_hat = knn.predict_proba(x_test)[:,1]\n",
        "\n",
        "#defining fpr and tpr\n",
        "fpr, tpr, thresold = roc_curve(y_test, y_hat)\n",
        "\n",
        "#roc_auc_score\n",
        "knn_roc_auc = roc_auc_score(y_test, knn.predict(x_test))\n",
        "knn_roc_auc"
      ],
      "metadata": {
        "id": "tp5rp6ATaER4",
        "colab": {
          "base_uri": "https://localhost:8080/"
        },
        "outputId": "c58da95c-c36c-43b8-828b-fdff1d7b3626"
      },
      "execution_count": 153,
      "outputs": [
        {
          "output_type": "execute_result",
          "data": {
            "text/plain": [
              "0.6018512275069443"
            ]
          },
          "metadata": {},
          "execution_count": 153
        }
      ]
    },
    {
      "cell_type": "code",
      "source": [
        "# plotting the roc curve\n",
        "plt.figure()\n",
        "plt.plot(fpr, tpr, label='K Nearest Neighbors (senstivity = %0.2f)',color='g' %knn_roc_auc)\n",
        "plt.plot([0,1],[0,1], 'b--')\n",
        "plt.xlabel('False positive rate')\n",
        "plt.ylabel('True positive rate')\n",
        "plt.title(\"Receiver operating characteristics\")\n",
        "plt.legend(loc=\"lower right\")"
      ],
      "metadata": {
        "id": "KldF7oBaaN_E",
        "colab": {
          "base_uri": "https://localhost:8080/",
          "height": 312
        },
        "outputId": "19ad387e-453b-4541-a4bc-cc9e05b65e86"
      },
      "execution_count": 154,
      "outputs": [
        {
          "output_type": "execute_result",
          "data": {
            "text/plain": [
              "<matplotlib.legend.Legend at 0x7f49596f9410>"
            ]
          },
          "metadata": {},
          "execution_count": 154
        },
        {
          "output_type": "display_data",
          "data": {
            "text/plain": [
              "<Figure size 432x288 with 1 Axes>"
            ],
            "image/png": "[encoded data removed]"
          },
          "metadata": {
            "needs_background": "light"
          }
        }
      ]
    },
    {
      "cell_type": "code",
      "source": [
        "# cross validation score\n",
        "scores = cross_val_score(knn, x_train,y_train,cv=3)\n",
        "print(\"cross-validation_scores: \",scores)\n",
        "print(\"%0.2f accuracy with a standard deviation of %0.2f\" % (scores.mean(), scores.std()))\n"
      ],
      "metadata": {
        "id": "j3kn7WqAaeKC",
        "colab": {
          "base_uri": "https://localhost:8080/"
        },
        "outputId": "a9d92cec-a8c6-48cc-c0aa-bfdd890e9db2"
      },
      "execution_count": 155,
      "outputs": [
        {
          "output_type": "stream",
          "name": "stdout",
          "text": [
            "cross-validation_scores:  [0.69667779 0.69212682 0.69736044]\n",
            "0.70 accuracy with a standard deviation of 0.00\n"
          ]
        }
      ]
    },
    {
      "cell_type": "markdown",
      "source": [
        "Hyper Parameter Tuning"
      ],
      "metadata": {
        "id": "2x0lptZMZFLr"
      }
    },
    {
      "cell_type": "code",
      "source": [
        "n_estimators = [int(x) for x in np.linspace(start=40, stop=150, num=15)]\n",
        "max_depth = [int(x) for x in np.linspace(40, 150, num=15)]\n",
        "\n",
        "param_dist = {\n",
        "    'n_estimators': n_estimators,\n",
        "    'max_depth': max_depth,\n",
        "}\n",
        "\n",
        "RF_tuned = RandomForestClassifier(random_state=42)\n",
        "\n",
        "RF_cv = RandomizedSearchCV(\n",
        "    estimator=RF_tuned, param_distributions=param_dist, cv=5, random_state=42)\n",
        "\n",
        "RF_cv.fit(x_train, y_train)\n",
        "\n"
      ],
      "metadata": {
        "id": "ORrILbUfM_Rt",
        "colab": {
          "base_uri": "https://localhost:8080/"
        },
        "outputId": "9d94c11d-893e-4b25-9c6c-b49fd09be122"
      },
      "execution_count": 156,
      "outputs": [
        {
          "output_type": "execute_result",
          "data": {
            "text/plain": [
              "RandomizedSearchCV(cv=5, estimator=RandomForestClassifier(random_state=42),\n",
              "                   param_distributions={'max_depth': [40, 47, 55, 63, 71, 79,\n",
              "                                                      87, 95, 102, 110, 118,\n",
              "                                                      126, 134, 142, 150],\n",
              "                                        'n_estimators': [40, 47, 55, 63, 71, 79,\n",
              "                                                         87, 95, 102, 110, 118,\n",
              "                                                         126, 134, 142, 150]},\n",
              "                   random_state=42)"
            ]
          },
          "metadata": {},
          "execution_count": 156
        }
      ]
    },
    {
      "cell_type": "code",
      "source": [
        "RF_cv.best_score_"
      ],
      "metadata": {
        "colab": {
          "base_uri": "https://localhost:8080/"
        },
        "id": "RXfkJYqTZDeT",
        "outputId": "08e0ebd4-e8ad-4607-95a1-d3794ea998b8"
      },
      "execution_count": 157,
      "outputs": [
        {
          "output_type": "execute_result",
          "data": {
            "text/plain": [
              "0.9179560409812003"
            ]
          },
          "metadata": {},
          "execution_count": 157
        }
      ]
    },
    {
      "cell_type": "code",
      "source": [
        "RF_cv.best_params_"
      ],
      "metadata": {
        "colab": {
          "base_uri": "https://localhost:8080/"
        },
        "id": "IKGgxMEEaq5s",
        "outputId": "c76c6c72-0e18-4059-c05e-e8a7d0cecd9b"
      },
      "execution_count": 158,
      "outputs": [
        {
          "output_type": "execute_result",
          "data": {
            "text/plain": [
              "{'n_estimators': 40, 'max_depth': 102}"
            ]
          },
          "metadata": {},
          "execution_count": 158
        }
      ]
    },
    {
      "cell_type": "code",
      "source": [
        "RF_best = RandomForestClassifier(\n",
        "    max_depth=102, n_estimators=40, random_state=42)"
      ],
      "metadata": {
        "id": "zrrm6BxzavJC"
      },
      "execution_count": 159,
      "outputs": []
    },
    {
      "cell_type": "code",
      "source": [
        "RF_best.fit(x_train, y_train)"
      ],
      "metadata": {
        "colab": {
          "base_uri": "https://localhost:8080/"
        },
        "id": "tADqmsXAa3OL",
        "outputId": "024e3a77-e012-46c6-ca72-ae985749da36"
      },
      "execution_count": 160,
      "outputs": [
        {
          "output_type": "execute_result",
          "data": {
            "text/plain": [
              "RandomForestClassifier(max_depth=102, n_estimators=40, random_state=42)"
            ]
          },
          "metadata": {},
          "execution_count": 160
        }
      ]
    },
    {
      "cell_type": "code",
      "source": [
        "#accuracy on training data\n",
        "x_train_prediction = RF_best.predict(x_train)\n",
        "training_data_accuracy = accuracy_score(x_train_prediction,y_train)\n",
        "print('Accuracy on training data:',training_data_accuracy)\n",
        "\n",
        "#Accuracy on test data\n",
        "x_test_prediction = RF_best.predict(x_test)\n",
        "test_data_accuracy = accuracy_score(x_test_prediction, y_test)\n",
        "print('Accuracy on test data:',test_data_accuracy)"
      ],
      "metadata": {
        "colab": {
          "base_uri": "https://localhost:8080/"
        },
        "id": "Kxc7wxvabMJk",
        "outputId": "ccd03b51-815b-47c6-d4f8-c1cbc18b2b24"
      },
      "execution_count": 161,
      "outputs": [
        {
          "output_type": "stream",
          "name": "stdout",
          "text": [
            "Accuracy on training data: 0.9997724514563107\n",
            "Accuracy on test data: 0.8242313915857605\n"
          ]
        }
      ]
    },
    {
      "cell_type": "code",
      "source": [
        "#printing classification report precision, recall, f1-score   \n",
        "print(classification_report(x_test_prediction, y_test))"
      ],
      "metadata": {
        "colab": {
          "base_uri": "https://localhost:8080/"
        },
        "id": "Cm3QrCnSb3wV",
        "outputId": "294189ec-7e7a-49e4-b577-cb91f24ceb89"
      },
      "execution_count": 162,
      "outputs": [
        {
          "output_type": "stream",
          "name": "stdout",
          "text": [
            "              precision    recall  f1-score   support\n",
            "\n",
            "           0       0.91      0.78      0.84      5836\n",
            "           1       0.74      0.89      0.81      4052\n",
            "\n",
            "    accuracy                           0.82      9888\n",
            "   macro avg       0.82      0.83      0.82      9888\n",
            "weighted avg       0.84      0.82      0.83      9888\n",
            "\n"
          ]
        }
      ]
    },
    {
      "cell_type": "code",
      "source": [],
      "metadata": {
        "id": "nSV7RnxZdkB_"
      },
      "execution_count": 162,
      "outputs": []
    }
  ]
}